{
 "cells": [
  {
   "cell_type": "markdown",
   "metadata": {},
   "source": [
    "<center>\n",
    "\n",
    "# **\"Rainbow\" 3D animation**\n",
    "\n",
    "Small code to be able to quiclky visualise the 3D data gotten for the Rainbow event. To run the code, there is a .venv/ python environment (and the equivalent requirements.txt file) in the same folder that has the necessary modules.\n",
    "</center>\n",
    "\n",
    "<font color='orange'> NOTE: </font> If on the remote server you are not using an IDE that has a jupyter notebook visualisation tool integrated inside it, then you'll need to connect through an ssh tunnel:\n",
    "\n",
    "- connect to one of the remote servers through ssh \n",
    "- create a Jupyter Lab instance in --no-bowser mode and specify the port, i.e. type **jupyter-lab --no-browser --port=8080** \n",
    "- in local, open the ssh tunnel, i.e. type **ssh -NL 8080:localhost:8080 {username}@{hostname}** \n",
    "- paste the link gotten from the Jupyter Lab instance in your browser"
   ]
  },
  {
   "cell_type": "code",
   "execution_count": 1,
   "metadata": {},
   "outputs": [],
   "source": [
    "# Necessary imports\n",
    "import os\n",
    "import re\n",
    "import k3d\n",
    "import threading\n",
    "import numpy as np\n",
    "import ipywidgets as widgets\n",
    "from astropy.io import fits\n",
    "from scipy.io import readsav\n",
    "from IPython.display import display"
   ]
  },
  {
   "cell_type": "code",
   "execution_count": 2,
   "metadata": {},
   "outputs": [],
   "source": [
    "# Important paths\n",
    "main_path = '/home/avoyeux/old_project/avoyeux/'\n",
    "# cubes_path = os.path.join(main_path, 'cubes')\n",
    "cubes_path = os.path.join(main_path, 'Cubes')\n",
    "texture_path = os.path.join(main_path, 'Textures')"
   ]
  },
  {
   "cell_type": "markdown",
   "metadata": {},
   "source": [
    "### **Preparing the data**\n",
    "\n",
    "In this part, the data cubes are just uploaded to the notebook. Furthermore, they are seperated in 4 different categories for easier visualisation (i.e. the seperations between the different duplicates)."
   ]
  },
  {
   "cell_type": "code",
   "execution_count": 3,
   "metadata": {},
   "outputs": [
    {
     "name": "stdout",
     "output_type": "stream",
     "text": [
      "Visual check of the cube names:\n",
      "['cube085.save', 'cube086.save', 'cube087.save', 'cube088.save', 'cube089.save', 'cube090.save', 'cube091.save', 'cube092.save', 'cube093.save', 'cube094.save', 'cube095.save', 'cube096.save', 'cube097.save', 'cube098.save', 'cube099.save', 'cube100.save', 'cube101.save', 'cube102.save', 'cube103.save', 'cube104.save', 'cube105.save', 'cube215.save', 'cube216.save', 'cube217.save', 'cube218.save', 'cube219.save', 'cube220.save', 'cube221.save', 'cube222.save', 'cube223.save', 'cube224.save', 'cube225.save', 'cube226.save', 'cube227.save', 'cube228.save', 'cube229.save', 'cube230.save', 'cube231.save', 'cube232.save', 'cube233.save', 'cube234.save', 'cube235.save', 'cube236.save', 'cube237.save', 'cube238.save', 'cube239.save', 'cube240.save', 'cube241.save', 'cube242.save', 'cube243.save', 'cube244.save', 'cube245.save', 'cube345.save', 'cube346.save', 'cube347.save', 'cube348.save', 'cube349.save', 'cube350.save', 'cube351.save', 'cube352.save', 'cube353.save', 'cube354.save', 'cube355.save', 'cube356.save', 'cube357.save', 'cube358.save', 'cube359.save', 'cube360.save', 'cube361.save', 'cube362.save', 'cube363.save', 'cube364.save', 'cube365.save', 'cube366.save', 'cube367.save', 'cube368.save', 'cube369.save', 'cube370.save']\n"
     ]
    }
   ],
   "source": [
    "# Setting the cube name pattern (only cube{:03d}.save files are kept)\n",
    "pattern = re.compile(r'cube\\d{3}\\.save')\n",
    "\n",
    "# Getting the cube names and sorting it so that they are in the right order\n",
    "cube_names = [cube_name for cube_name in os.listdir(cubes_path) if pattern.match(cube_name)]\n",
    "cube_names.sort()\n",
    "\n",
    "print('Visual check of the cube names:')\n",
    "print(cube_names)"
   ]
  },
  {
   "cell_type": "code",
   "execution_count": 32,
   "metadata": {},
   "outputs": [],
   "source": [
    "# Importing the necessary data\n",
    "cubes = [readsav(os.path.join(cubes_path, cube_name)).cube for cube_name in cube_names]  \n",
    "cubes1 = [readsav(os.path.join(cubes_path, cube_name)).cube1 for cube_name in cube_names]  \n",
    "cubes2 = [readsav(os.path.join(cubes_path, cube_name)).cube2 for cube_name in cube_names]  \n",
    "cubes = np.stack(cubes, axis=0) # all data\n",
    "cubes1 = np.stack(cubes1, axis=0) # line of sight seen from STEREO \n",
    "cubes2 = np.stack(cubes2, axis=0) # line of sight seen from SDO\n",
    "\n",
    "# Seperating the data\n",
    "cubes0 = cubes != 0  # all the data\n",
    "filters1 = (cubes == 3) & (cubes==7) # no duplicates seen from SDO\n",
    "filters2 = (cubes == 5) & (cubes==7) # no duplicates seen from STEREO\n",
    "filters3 = (cubes == 7)  # no  duplicates\n",
    "\n",
    "cubes01 = np.zeros(np.shape(cubes))\n",
    "cubes02 = np.zeros(np.shape(cubes))\n",
    "cubes03 = np.zeros(np.shape(cubes)) \n",
    "\n",
    "cubes01[filters1] = 1\n",
    "cubes02[filters2] = 1\n",
    "cubes03[filters3] = 1"
   ]
  },
  {
   "cell_type": "code",
   "execution_count": 45,
   "metadata": {},
   "outputs": [],
   "source": [
    "# Other useful data for the plots\n",
    "trace_cubes = np.any(cubes, axis=0) # basically shows the \"trace\" of all the data\n",
    "trace_cubes03 = np.any(cubes03, axis=0) # shows the \"trace\" of the no duplicates data"
   ]
  },
  {
   "cell_type": "markdown",
   "metadata": {},
   "source": [
    "<font color='red'> **WEIRD:** </font>\n",
    "The next code is just to check that I have uploaded the right data set (I initially made some mistakes). That being said, I have no clue how some of the values are equal to 2..."
   ]
  },
  {
   "cell_type": "code",
   "execution_count": null,
   "metadata": {},
   "outputs": [
    {
     "name": "stdout",
     "output_type": "stream",
     "text": [
      "np.unique(cubes) gives [0. 1. 3. 5. 7.]\n"
     ]
    }
   ],
   "source": [
    "print(f'np.unique(cubes) gives {np.unique(cubes)}')"
   ]
  },
  {
   "cell_type": "markdown",
   "metadata": {},
   "source": [
    "### **Where is the Sun?**\n",
    "\n",
    "This small bit of code is just to upload the necessary data and find the Sun's radius + center position in the cubes reference frame. "
   ]
  },
  {
   "cell_type": "code",
   "execution_count": 33,
   "metadata": {},
   "outputs": [],
   "source": [
    "# Reference data \n",
    "first_cube_name = os.path.join(cubes_path, 'cube085.save')\n",
    "\n",
    "# Initial data values\n",
    "solar_r = 6.96e5 \n",
    "length_dx = readsav(first_cube_name).dx\n",
    "length_dy = readsav(first_cube_name).dy\n",
    "length_dz = readsav(first_cube_name).dz\n",
    "x_min = readsav(first_cube_name).xt_min\n",
    "y_min = readsav(first_cube_name).yt_min\n",
    "z_min = readsav(first_cube_name).zt_min\n",
    "\n",
    "# The Sun's radius\n",
    "radius_index = solar_r / length_dx  # TODO: need to change this if dx!=dy!=dz.\n",
    "\n",
    "# The Sun center's position\n",
    "x_index = abs(x_min) / length_dx \n",
    "y_index = abs(y_min) / length_dy \n",
    "z_index = abs(z_min) / length_dz \n",
    "sun_center = [x_index, y_index, z_index]"
   ]
  },
  {
   "cell_type": "markdown",
   "metadata": {},
   "source": [
    "#### **Creating the Sun**\n",
    "\n",
    "To create a sphere, the most efficient method is just to create a point and give it the radius of the Sun. That being said, I wasn't able to add a texture when using k3d.points(). I also created a spherical mesh but when I tried, I wasn't able to make use of the k3d.mesh.texture argument (in conjuction with k3d.mesh.texture_file_type). In my honest opinion, I don't thing it works, at least not as explained in the API. Was also unsuccesful when using the k3d.surface() and k3d.volume() options. \\\n",
    "Hence, in the following code I am using the worst possible method, i.e. creating a spherical cloud of points for which I give color values that map out an image of the Sun. "
   ]
  },
  {
   "cell_type": "markdown",
   "metadata": {},
   "source": [
    "##### AIA 30.4nm synoptics map\n",
    "\n",
    "This initial part is just to import the texture (i.e. the synoptics map) and do the usual manipulations to have \"nice visuals\" (i.e. cutting the high and low values and changing it to a logarithmic scale)."
   ]
  },
  {
   "cell_type": "code",
   "execution_count": 34,
   "metadata": {
    "scrolled": true
   },
   "outputs": [],
   "source": [
    "# Importing AIA 33.5nm synoptics map\n",
    "hdul = fits.open(os.path.join(texture_path, 'syn_AIA_304_2012-07-23T00-00-00_a_V1.fits'))\n",
    "image = hdul[0].data  # (960, 1920) monochromatic image\n",
    "\n",
    "# Image shape\n",
    "height, width = image.shape\n",
    "\n",
    "# Image treatment\n",
    "lower_cut = np.nanpercentile(image, 0.5)\n",
    "upper_cut = np.nanpercentile(image, 99.99)\n",
    "image[image < lower_cut] = lower_cut\n",
    "image[image > upper_cut] = upper_cut\n",
    "\n",
    "# Replacing nan values to the lower_cut \n",
    "nw_image = np.where(np.isnan(image), lower_cut, image)  # TODO: would need to change the nan values to the interpolation for the pole\n",
    "\n",
    "# Changing values to a logarithmic scale\n",
    "nw_image = np.log(nw_image)\n",
    "\n",
    "# Creating a 1D array of the color values\n",
    "def Colours_1D(length_x, length_y):\n",
    "    x_indices = length_x[:, np.newaxis]\n",
    "    y_indices = length_y[np.newaxis, :]\n",
    "    colouring = nw_image[x_indices, y_indices]\n",
    "    return colouring.flatten()\n",
    "\n",
    "def Colours_to_hex(colours):\n",
    "    normalized_colours = (colours - np.min(colours)) / (np.max(colours) - np.min(colours))\n",
    "    blue_val = (normalized_colours * 255).astype('int')\n",
    "    return (blue_val << 16) + (blue_val << 8) + blue_val"
   ]
  },
  {
   "cell_type": "code",
   "execution_count": 35,
   "metadata": {},
   "outputs": [],
   "source": [
    "####### SPHERICAL CLOUD OF POINTS #######\n",
    "\n",
    "# Initialisation\n",
    "N = int(960) # number of points in the theta direction\n",
    "theta = np.linspace(0, np.pi, N)  # latitude of the points\n",
    "phi = np.linspace(0, 2 * np.pi, 2 * N)  # longitude of the points\n",
    "theta, phi = np.meshgrid(theta, phi)  # the subsequent meshgrid\n",
    "\n",
    "# Convertion to cartesian coordinates\n",
    "x = radius_index * np.sin(theta) * np.cos(phi) + sun_center[0]\n",
    "y = radius_index * np.sin(theta) * np.sin(phi) + sun_center[1]\n",
    "z = radius_index * np.cos(theta) + sun_center[2] \n",
    "\n",
    "# Creation of the position of the spherical cloud of points\n",
    "points = np.array([x, y, z]).T \n",
    "\n",
    "# The corresponding image indexes to get the colors\n",
    "image_x = np.linspace(0, height - 1, points.shape[0]).astype('int')\n",
    "image_y = np.linspace(0, width - 1, points.shape[1]).astype('int')"
   ]
  },
  {
   "cell_type": "code",
   "execution_count": 36,
   "metadata": {},
   "outputs": [],
   "source": [
    "####### HEX COLOR LIST #######\n",
    "\n",
    "# Creating the RGB color list\n",
    "colours = Colours_1D(image_x, image_y)\n",
    "\n",
    "# Creating the subsequent Hex color list\n",
    "hex_colors = Colours_to_hex(colours)"
   ]
  },
  {
   "cell_type": "code",
   "execution_count": 17,
   "metadata": {},
   "outputs": [],
   "source": [
    "# ####### IMAGE AND COLORING STUFF #######\n",
    "\n",
    "# # Opening the texture image\n",
    "# image = imread(os.path.join(texture_path, 'texturejpeg.jpg'))  # in RGB format\n",
    "\n",
    "# # Image shape\n",
    "# height, width, _ = image.shape\n",
    "\n",
    "# # Creating an array of the RGB values (with the same size than the number of points)\n",
    "# def RGB_1D_colors(length_x, length_y):\n",
    "#     x_indices = length_x[:, np.newaxis] \n",
    "#     y_indices = length_y[np.newaxis, :]\n",
    "#     coloring = image[x_indices, y_indices]  # == doing a double for loop. Just learnt about this method.\n",
    "#     return np.concatenate(coloring, axis=0, dtype='int')\n",
    "\n",
    "# # Function to change RGB values to Hex color values as integers\n",
    "# def rgb_to_hex(rgb):\n",
    "#     \"\"\"\n",
    "#     The output is not a Hex color string (as it normally should be) but integers as it's the only accepted color value input...\n",
    "#     \"\"\"\n",
    "#     return (rgb[:, 0] << 16) + (rgb[:, 1] << 8) + rgb[:, 2]"
   ]
  },
  {
   "cell_type": "code",
   "execution_count": 18,
   "metadata": {},
   "outputs": [],
   "source": [
    "# ####### HEX COLOR LIST #######\n",
    "\n",
    "# # Creating the RGB color list\n",
    "# rgb_colors = RGB_1D_colors(image_x, image_y)\n",
    "\n",
    "# # Creating the subsequent Hex color list\n",
    "# hex_colors = rgb_to_hex(rgb_colors)"
   ]
  },
  {
   "cell_type": "markdown",
   "metadata": {},
   "source": [
    "##### **Adding stars in the background**\n",
    "\n",
    "Just adding some stars for a nicer visual."
   ]
  },
  {
   "cell_type": "code",
   "execution_count": 37,
   "metadata": {},
   "outputs": [],
   "source": [
    "# Stars spherical positions \n",
    "stars_N = 400  # total number of stars\n",
    "stars_radius = np.random.uniform(radius_index * 15, radius_index * 30, stars_N)\n",
    "stars_theta = np.random.uniform(0, np.pi, stars_N)\n",
    "stars_phi = np.random.uniform(0, 2 * np.pi, stars_N)\n",
    "\n",
    "# To cartesian\n",
    "stars_x = stars_radius * np.sin(stars_theta) * np.cos(stars_phi) + sun_center[0]\n",
    "stars_y = stars_radius * np.sin(stars_theta) * np.sin(stars_phi) + sun_center[1]\n",
    "stars_z = stars_radius * np.cos(stars_theta) + sun_center[2]\n",
    "\n",
    "# Cartesian positions\n",
    "stars_points = np.array([stars_x, stars_y, stars_z]).T"
   ]
  },
  {
   "cell_type": "markdown",
   "metadata": {},
   "source": [
    "<center>\n",
    "\n",
    "## **MAIN PART**\n",
    "</center>\n",
    "\n",
    "Main bulk of the code where the visualisation is done, primarily using the k3d library. There is a play/pause button for the animation. Also, for now the sleep() timer between each image is set to 2 seconds to make sure no lag occures. The compression_level is also set to 5 (goes from -1 to 9), but you can probably go lower. I just know that on my laptop, I crashed everything when I set it to 0 and tried the play/pause button...\n",
    "\n",
    "<font color='red'> **IMPORTANT:** </font> In the k3d visualisation interface there is a slider named *\"Objects\"*. Please uncheck the \"visible\" box for the data sets that are not of interest. If not, as 4 volumes are generated at the same time, the visualisation will lag. Also, the interactive interface takes some time to show up (~2min) but afterwards the visualisation runs smoothly (if the structures are not all set to \"visible\")."
   ]
  },
  {
   "cell_type": "code",
   "execution_count": 51,
   "metadata": {},
   "outputs": [],
   "source": [
    "# Creating the plot function:\n",
    "def ThePlot(Sun=False, stars=False, all_data=False, duplicates=False, no_duplicate=False, line_of_sight=False, \n",
    "            trace_data=False, trace_noduplicate=False):\n",
    "    plot = k3d.plot(grid_visible=False, background_color=0x000000)  # plot with no axes and a dark background\n",
    "\n",
    "    # Adding the different data sets (i.e. with or without duplicates)\n",
    "    if all_data:\n",
    "        init_plot = k3d.voxels(cubes0[0], space_size=cubes0[0].shape, outlines=False, compression_level=5, \n",
    "                            color_map=[0x8B0000], name='All data')\n",
    "        plot += init_plot\n",
    "\n",
    "    if trace_data:\n",
    "        plot += k3d.voxels(trace_cubes, compression_level=5, outlines=False, color_map=[0xff6666], opacity=0.1,\n",
    "        name='Trace of all the data')\n",
    "    \n",
    "    if trace_noduplicate:\n",
    "        plot += k3d.voxels(trace_cubes03, compression_level=5, outlines=False, color_map=[0xff6666], opacity=0.1,\n",
    "        name='Trace of the no duplicates')\n",
    "\n",
    "    if duplicates:\n",
    "        init_plot1 = k3d.voxels(cubes01[0], compression_level=5, outlines=True, color_map=[0xff0000], \n",
    "                                name='No duplicates from SDO')\n",
    "        init_plot2 = k3d.voxels(cubes02[0], compression_level=5, outlines=True, color_map=[0x0000ff],\n",
    "                                name='No duplicates from STEREO')\n",
    "        plot += init_plot1\n",
    "        plot += init_plot2\n",
    "        \n",
    "    if no_duplicate:\n",
    "        init_plot3 = k3d.voxels(cubes03[0], compression_level=5, outlines=True, color_map=[0x8B0000], \n",
    "                                name='No duplicates')\n",
    "        plot += init_plot3\n",
    "        \n",
    "    if line_of_sight:\n",
    "        init_plot4 = k3d.voxels(cubes1[0], compression_level=5, outlines=True, color_map=[0x0000ff], \n",
    "                                name='Seen from Stereo')\n",
    "        init_plot5 = k3d.voxels(cubes2[0], compression_level=5, outlines=True, color_map=[0xff0000], \n",
    "                                name='Seen from SDO')\n",
    "        plot += init_plot4\n",
    "        plot += init_plot5\n",
    "\n",
    "    if Sun:\n",
    "        # Adding the SUN!!!\n",
    "        plot += k3d.points(positions=points, point_size=2.5, colors=hex_colors, shader='flat', name='SUN', \n",
    "                           compression_level=5)\n",
    "    if stars:\n",
    "        # Adding the stars\n",
    "        plot += k3d.points(positions=stars_points, point_size=50, color=0xffffff, shader='3d', name='Stars', \n",
    "                           compression_level=5)\n",
    "\n",
    "    # Camera visualisation parameters\n",
    "    plot.camera_auto_fit = False\n",
    "    plot.camera_fov = 1  # FOV in degrees\n",
    "    plot.camera_zoom_speed = 0.7  # it was zooming too quiclky (default=1.2)\n",
    "    distance_to_sun = 100 * radius_index  # starting camera \"distance\" with respect to the sun's center\n",
    "    plot.camera = [sun_center[0] - distance_to_sun, sun_center[1] - distance_to_sun / 2, 0,  # starting camera position\n",
    "                # sun_center[0], sun_center[1], sun_center[2],  # point to look at, i.e. initial rotational reference\n",
    "                cubes.shape[1]/2, cubes.shape[2]/2, cubes.shape[3]/2,\n",
    "                0, 0, 1]  # up vector\n",
    "\n",
    "    # Adding a play/pause button\n",
    "    play_pause_button = widgets.ToggleButton(value=False, description='Play', icon='play')\n",
    "\n",
    "    # Updating the voxel data\n",
    "    def update_voxel(change):\n",
    "        if all_data:\n",
    "            init_plot.voxels = cubes0[change['new']]\n",
    "        if duplicates:\n",
    "            init_plot1.voxels = cubes01[change['new']]\n",
    "            init_plot2.voxels = cubes02[change['new']]\n",
    "        if no_duplicate:\n",
    "            init_plot3.voxels = cubes03[change['new']]\n",
    "        if line_of_sight:\n",
    "            init_plot4.voxels = cubes1[change['new']]\n",
    "            init_plot5.voxels = cubes2[change['new']]\n",
    "\n",
    "    # Play/pause stuff\n",
    "    def play():\n",
    "        if play_pause_button.value and time_slider.value < len(cubes) - 1:\n",
    "            time_slider.value += 1\n",
    "            threading.Timer(2, play).start()  # where you also set the sleep() time. \n",
    "        else:\n",
    "            play_pause_button.description = 'Play'\n",
    "            play_pause_button.icon = 'play'\n",
    "\n",
    "    def play_pause_handler(change):\n",
    "        if change['new']:  # if clicked play\n",
    "            play()\n",
    "            play_pause_button.description = 'Pause'\n",
    "            play_pause_button.icon = 'pause'\n",
    "        else:  \n",
    "            pass\n",
    "\n",
    "    # Set up the time slider and the play/pause button\n",
    "    time_slider = widgets.IntSlider(min=0, max=len(cubes)-1, description='Time')\n",
    "    time_slider.observe(update_voxel, names='value')\n",
    "    play_pause_button.observe(play_pause_handler, names='value')\n",
    "\n",
    "    # Display\n",
    "    display(plot, time_slider, play_pause_button)"
   ]
  },
  {
   "cell_type": "code",
   "execution_count": 52,
   "metadata": {},
   "outputs": [
    {
     "name": "stderr",
     "output_type": "stream",
     "text": [
      "/home/avoyeux/old_project/avoyeux/prog/python_codes/.venv/lib/python3.9/site-packages/traittypes/traittypes.py:97: UserWarning: Given trait value dtype \"float64\" does not match required type \"uint8\". A coerced copy has been created.\n",
      "  warnings.warn(\n",
      "/home/avoyeux/old_project/avoyeux/prog/python_codes/.venv/lib/python3.9/site-packages/traittypes/traittypes.py:97: UserWarning: Given trait value dtype \"bool\" does not match required type \"uint8\". A coerced copy has been created.\n",
      "  warnings.warn(\n",
      "/home/avoyeux/old_project/avoyeux/prog/python_codes/.venv/lib/python3.9/site-packages/traittypes/traittypes.py:97: UserWarning: Given trait value dtype \"float64\" does not match required type \"float32\". A coerced copy has been created.\n",
      "  warnings.warn(\n",
      "/home/avoyeux/old_project/avoyeux/prog/python_codes/.venv/lib/python3.9/site-packages/traittypes/traittypes.py:97: UserWarning: Given trait value dtype \"int64\" does not match required type \"uint32\". A coerced copy has been created.\n",
      "  warnings.warn(\n"
     ]
    },
    {
     "data": {
      "application/vnd.jupyter.widget-view+json": {
       "model_id": "7255f5aa538545e7889680088add6163",
       "version_major": 2,
       "version_minor": 0
      },
      "text/plain": [
       "Plot(antialias=3, axes=['x', 'y', 'z'], axes_helper=1.0, axes_helper_colors=[16711680, 65280, 255], camera=[-4…"
      ]
     },
     "metadata": {},
     "output_type": "display_data"
    },
    {
     "data": {
      "application/vnd.jupyter.widget-view+json": {
       "model_id": "c47fe8146a3a46509194bc617a88df32",
       "version_major": 2,
       "version_minor": 0
      },
      "text/plain": [
       "IntSlider(value=0, description='Time', max=77)"
      ]
     },
     "metadata": {},
     "output_type": "display_data"
    },
    {
     "data": {
      "application/vnd.jupyter.widget-view+json": {
       "model_id": "720be3e00cbe4c03973a7e50df39a319",
       "version_major": 2,
       "version_minor": 0
      },
      "text/plain": [
       "ToggleButton(value=False, description='Play', icon='play')"
      ]
     },
     "metadata": {},
     "output_type": "display_data"
    }
   ],
   "source": [
    "# Plotting\n",
    "ThePlot(trace_data=True, trace_noduplicate=True, Sun=True, no_duplicates=True, all_data=True)"
   ]
  },
  {
   "cell_type": "markdown",
   "metadata": {},
   "source": [
    "<font color='Green'> **CONTROLS:** </font> \n",
    "- hold left click to rotate\n",
    "- hold right click to move\n",
    "- Scroll to zoom\n",
    "- you can click on the time number and use the numpad if you don't like the slider\n",
    "- there are options in the panel on the top right corner"
   ]
  },
  {
   "cell_type": "markdown",
   "metadata": {},
   "source": [
    "### **Useless test**\n",
    "\n",
    "The next part is just me trying the sparse_voxels method. I didn't end up using this method as it seems that it is less efficient than the normal k3d.voxels() method, at least for the data set used. Kept the code as it might be usefull for someone else or if the data set increases by a lot. "
   ]
  },
  {
   "cell_type": "code",
   "execution_count": 25,
   "metadata": {},
   "outputs": [
    {
     "ename": "KeyboardInterrupt",
     "evalue": "",
     "output_type": "error",
     "traceback": [
      "\u001b[0;31m---------------------------------------------------------------------------\u001b[0m",
      "\u001b[0;31mKeyboardInterrupt\u001b[0m                         Traceback (most recent call last)",
      "\u001b[1;32m/home/avoyeux/old_project/avoyeux/prog/python_codes/3D_animation.ipynb Cell 25\u001b[0m line \u001b[0;36m4\n\u001b[1;32m      <a href='vscode-notebook-cell://ssh-remote%2Bsol/home/avoyeux/old_project/avoyeux/prog/python_codes/3D_animation.ipynb#X32sdnNjb2RlLXJlbW90ZQ%3D%3D?line=1'>2</a>\u001b[0m sparse_data \u001b[39m=\u001b[39m []\n\u001b[1;32m      <a href='vscode-notebook-cell://ssh-remote%2Bsol/home/avoyeux/old_project/avoyeux/prog/python_codes/3D_animation.ipynb#X32sdnNjb2RlLXJlbW90ZQ%3D%3D?line=2'>3</a>\u001b[0m \u001b[39mfor\u001b[39;00m loop, cube \u001b[39min\u001b[39;00m \u001b[39menumerate\u001b[39m(cubes):\n\u001b[0;32m----> <a href='vscode-notebook-cell://ssh-remote%2Bsol/home/avoyeux/old_project/avoyeux/prog/python_codes/3D_animation.ipynb#X32sdnNjb2RlLXJlbW90ZQ%3D%3D?line=3'>4</a>\u001b[0m     x_sparse, y_sparse, z_sparse \u001b[39m=\u001b[39m np\u001b[39m.\u001b[39;49mwhere(cube \u001b[39m>\u001b[39;49m \u001b[39m0\u001b[39;49m)\n\u001b[1;32m      <a href='vscode-notebook-cell://ssh-remote%2Bsol/home/avoyeux/old_project/avoyeux/prog/python_codes/3D_animation.ipynb#X32sdnNjb2RlLXJlbW90ZQ%3D%3D?line=4'>5</a>\u001b[0m     vals_sparse \u001b[39m=\u001b[39m cube[x_sparse, y_sparse, z_sparse]\n\u001b[1;32m      <a href='vscode-notebook-cell://ssh-remote%2Bsol/home/avoyeux/old_project/avoyeux/prog/python_codes/3D_animation.ipynb#X32sdnNjb2RlLXJlbW90ZQ%3D%3D?line=5'>6</a>\u001b[0m     sparse_data\u001b[39m.\u001b[39mappend(np\u001b[39m.\u001b[39marray([x_sparse, y_sparse, z_sparse, vals_sparse])\u001b[39m.\u001b[39mT)\n",
      "\u001b[0;31mKeyboardInterrupt\u001b[0m: "
     ]
    }
   ],
   "source": [
    "# Sparse representation for sparse vortex\n",
    "sparse_data = []\n",
    "for loop, cube in enumerate(cubes):\n",
    "    x_sparse, y_sparse, z_sparse = np.where(cube > 0)\n",
    "    vals_sparse = cube[x_sparse, y_sparse, z_sparse]\n",
    "    sparse_data.append(np.array([x_sparse, y_sparse, z_sparse, vals_sparse]).T)"
   ]
  },
  {
   "cell_type": "code",
   "execution_count": null,
   "metadata": {},
   "outputs": [],
   "source": [
    "# Sparse time series visualisation\n",
    "sparse_used_data = sparse_data[:20]\n",
    "\n",
    "# Creating the plot\n",
    "plot = k3d.plot()\n",
    "\n",
    "space_shape = [cubes.shape[1]+5, cubes.shape[2]+5, cubes.shape[3]+5]\n",
    "init_plot = k3d.sparse_voxels(sparse_used_data[0], space_size=space_shape, compression_level=3)\n",
    "plot += init_plot\n",
    "\n",
    "# Updating the voxel data\n",
    "def update_voxel(change):\n",
    "    init_plot.sparse_voxels = sparse_used_data[change['new']]\n",
    "\n",
    "# Set up the time slides\n",
    "time_slider = widgets.IntSlider(min=0, max=len(used_data)-1, description='Time')\n",
    "time_slider.observe(update_voxel, names='value')\n",
    "\n",
    "# Display\n",
    "display(plot, time_slider)"
   ]
  },
  {
   "cell_type": "markdown",
   "metadata": {},
   "source": [
    "##### Interesting info (read only if really bored)\n",
    "\n",
    "I also tried to use vtk, plotly and mayavi libraries. \\\n",
    "Plotly is super easy to use and really efficient to plot points. That being said, when I tried to plot voxels or volumes, it was super slow, borderline impossible to plot the \"Rainbow\" data set. \\\n",
    "Mayavi is even more efficient. Sadly, from what I understood and tried, it can't really plot voxels as it triangulates the surfaces around the voxels. Hence, the shapes are not all what they should be nor have the width they should have. All in all, it was really efficient and easy to use so I would guess that it is the best choice to plot really big structures where the triangulation doesn't really matter due to the number of data points. \\\n",
    "VTK is the go to if you are really proficient in Python (which I am not) and/or C++ as it is the library Mayavi is structured on. "
   ]
  }
 ],
 "metadata": {
  "kernelspec": {
   "display_name": "Python 3 (ipykernel)",
   "language": "python",
   "name": "python3"
  },
  "language_info": {
   "codemirror_mode": {
    "name": "ipython",
    "version": 3
   },
   "file_extension": ".py",
   "mimetype": "text/x-python",
   "name": "python",
   "nbconvert_exporter": "python",
   "pygments_lexer": "ipython3",
   "version": "3.9.18"
  }
 },
 "nbformat": 4,
 "nbformat_minor": 4
}
