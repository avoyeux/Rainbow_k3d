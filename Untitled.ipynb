{
 "cells": [
  {
   "cell_type": "code",
   "execution_count": 2,
   "id": "77687472-1730-40f0-821c-cc2e0db08f3d",
   "metadata": {},
   "outputs": [],
   "source": [
    "import numpy as np\n",
    "from sparse import COO\n",
    "import k3d\n",
    "import os"
   ]
  },
  {
   "cell_type": "code",
   "execution_count": 17,
   "id": "c5ce19f9-05d4-431f-a380-f2db93f61788",
   "metadata": {},
   "outputs": [],
   "source": [
    "Coo_array = np.load(os.path.join('..', 'test_conv3d_array', 'poly_raw_order5.npy'))\n",
    "data_shape = (239, 320, 226, 186)\n",
    "data = COO(coords=Coo_array, data=1, shape=data_shape)"
   ]
  },
  {
   "cell_type": "code",
   "execution_count": 25,
   "id": "206aa808-f4e0-4a9a-a7df-bd38b52f9344",
   "metadata": {},
   "outputs": [
    {
     "data": {
      "text/plain": [
       "array([ 0,  0,  0, ..., 28, 28, 28], dtype=uint16)"
      ]
     },
     "execution_count": 25,
     "metadata": {},
     "output_type": "execute_result"
    }
   ],
   "source": [
    "Coo_array[0, :]"
   ]
  },
  {
   "cell_type": "code",
   "execution_count": 18,
   "id": "fcf2bf00-e8c4-42df-b9f9-d227e55b214f",
   "metadata": {},
   "outputs": [
    {
     "data": {
      "application/vnd.jupyter.widget-view+json": {
       "model_id": "a23a0037e41f427992169b405260c2cf",
       "version_major": 2,
       "version_minor": 0
      },
      "text/plain": [
       "Output()"
      ]
     },
     "metadata": {},
     "output_type": "display_data"
    }
   ],
   "source": [
    "index = 20\n",
    "\n",
    "\n",
    "plot = k3d.plot()\n",
    "data = data[index]\n",
    "data = data.todense()\n",
    "plot_data = k3d.voxels(data)\n",
    "plot += plot_data\n",
    "plot.display()"
   ]
  },
  {
   "cell_type": "code",
   "execution_count": 30,
   "id": "54f34ffc-8440-4ca5-994a-79ac9c7cc552",
   "metadata": {},
   "outputs": [
    {
     "name": "stdout",
     "output_type": "stream",
     "text": [
      "120 ns ± 1.19 ns per loop (mean ± std. dev. of 7 runs, 10,000,000 loops each)\n"
     ]
    }
   ],
   "source": [
    "%%timeit\n",
    "def f():\n",
    "    value=None \n",
    "    value2 = None\n",
    "    value = value2\n",
    "f()\n"
   ]
  },
  {
   "cell_type": "code",
   "execution_count": 5,
   "id": "5cbc1e94-191d-40de-be7b-16b1268251c6",
   "metadata": {},
   "outputs": [
    {
     "name": "stdout",
     "output_type": "stream",
     "text": [
      "[ 0  2  4  6  8 10 12 14 16 18]\n"
     ]
    }
   ],
   "source": [
    "from common_alf import MathematicalEquations\n",
    "import numpy as np\n",
    "\n",
    "x = np.arange(0, 20)\n",
    "y = np.arange(0, 20)\n",
    "z = np.arange(0, 20)\n",
    "\n",
    "\n",
    "order3, nb_coeffs = MathematicalEquations.Generate_nth_order_polynomial(2)\n",
    "\n",
    "params = np.arange(0, nb_coeffs * 2, 2)\n",
    "print(params)\n",
    "result = order3(x, y, z, *params)"
   ]
  },
  {
   "cell_type": "code",
   "execution_count": 6,
   "id": "0e56c145",
   "metadata": {},
   "outputs": [
    {
     "data": {
      "text/plain": [
       "array([    0,    90,   336,   738,  1296,  2010,  2880,  3906,  5088,\n",
       "        6426,  7920,  9570, 11376, 13338, 15456, 17730, 20160, 22746,\n",
       "       25488, 28386])"
      ]
     },
     "execution_count": 6,
     "metadata": {},
     "output_type": "execute_result"
    }
   ],
   "source": [
    "result"
   ]
  },
  {
   "cell_type": "code",
   "execution_count": 9,
   "id": "086511ec",
   "metadata": {},
   "outputs": [],
   "source": [
    "p = params[0] + params[1] * x + params[2] * x + params[3] * x + sum([params[loop] for loop in range(4, len(params))])*x**2"
   ]
  },
  {
   "cell_type": "code",
   "execution_count": 10,
   "id": "cd38ea8c",
   "metadata": {},
   "outputs": [
    {
     "data": {
      "text/plain": [
       "array([    0,    90,   336,   738,  1296,  2010,  2880,  3906,  5088,\n",
       "        6426,  7920,  9570, 11376, 13338, 15456, 17730, 20160, 22746,\n",
       "       25488, 28386])"
      ]
     },
     "execution_count": 10,
     "metadata": {},
     "output_type": "execute_result"
    }
   ],
   "source": [
    "p"
   ]
  },
  {
   "cell_type": "code",
   "execution_count": null,
   "id": "315ad277",
   "metadata": {},
   "outputs": [],
   "source": []
  }
 ],
 "metadata": {
  "kernelspec": {
   "display_name": "Python 3 (ipykernel)",
   "language": "python",
   "name": "python3"
  },
  "language_info": {
   "codemirror_mode": {
    "name": "ipython",
    "version": 3
   },
   "file_extension": ".py",
   "mimetype": "text/x-python",
   "name": "python",
   "nbconvert_exporter": "python",
   "pygments_lexer": "ipython3",
   "version": "3.11.6"
  }
 },
 "nbformat": 4,
 "nbformat_minor": 5
}
