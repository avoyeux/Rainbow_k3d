{
 "cells": [
  {
   "cell_type": "markdown",
   "metadata": {},
   "source": [
    "## TO TEST NEW CODE"
   ]
  },
  {
   "cell_type": "code",
   "execution_count": 20,
   "metadata": {},
   "outputs": [],
   "source": [
    "import os\n",
    "import skimage\n",
    "import astropy\n",
    "import matplotlib.pyplot as plt\n",
    "\n",
    "from polynomial_projection import OrthographicalProjection"
   ]
  },
  {
   "cell_type": "code",
   "execution_count": 21,
   "metadata": {},
   "outputs": [],
   "source": [
    "# Import the images\n",
    "\n",
    "path = os.path.join(os.getcwd(), '..', '..', 'sdo')\n",
    "filepath = os.path.join(path, 'AIA_fullhead_000.fits.gz')\n",
    "hdul = astropy.io.fits.open(filepath)"
   ]
  },
  {
   "cell_type": "code",
   "execution_count": 22,
   "metadata": {},
   "outputs": [
    {
     "data": {
      "image/png": "[encoded data removed]",
      "text/plain": [
       "<Figure size 640x480 with 2 Axes>"
      ]
     },
     "metadata": {},
     "output_type": "display_data"
    }
   ],
   "source": [
    "image = hdul[0].data\n",
    "\n",
    "plt.figure()\n",
    "plt.imshow(image, interpolation='none')\n",
    "plt.colorbar()\n",
    "plt.show()"
   ]
  },
  {
   "cell_type": "code",
   "execution_count": 23,
   "metadata": {},
   "outputs": [
    {
     "data": {
      "text/plain": [
       "SIMPLE  =                    T / conforms to FITS standard                      \n",
       "BITPIX  =                   64 / array data type                                \n",
       "NAXIS   =                    2 / number of array dimensions                     \n",
       "NAXIS1  =                 4096                                                  \n",
       "NAXIS2  =                 4096                                                  \n",
       "BLD_VERS= 'V6R3X'                                                               \n",
       "LVL_NUM = 1.000000                                                              \n",
       "T_REC   = '2012-07-23T00:06:45Z'                                                \n",
       "TRECSTEP= 1.000000                                                              \n",
       "TRECEPOC= '1977.01.01_00:00:00_TAI'                                             \n",
       "TRECROUN=                    1                                                  \n",
       "ORIGIN  = 'SDO/JSOC-SDP'                                                        \n",
       "DATE    = '2012-12-07T20:54:49'                                                 \n",
       "TELESCOP= 'SDO/AIA'                                                             \n",
       "INSTRUME= 'AIA_4'                                                               \n",
       "DATE-OBS= '2012-07-23T00:06:43.12'                                              \n",
       "T_OBS   = '2012-07-23T00:06:44.57Z'                                             \n",
       "CAMERA  =                    4                                                  \n",
       "IMG_TYPE= 'LIGHT'                                                               \n",
       "EXPTIME = 2.902059                                                              \n",
       "EXPSDEV = 0.000205                                                              \n",
       "INT_TIME= 3.148438                                                              \n",
       "WAVELNTH=                  304                                                  \n",
       "WAVEUNIT= 'angstrom'                                                            \n",
       "WAVE_STR= '304_THIN'                                                            \n",
       "FSN     =             50757678                                                  \n",
       "FID     =                    0                                                  \n",
       "QUALLEV0=                    0                                                  \n",
       "QUALITY =                    0                                                  \n",
       "TOTVALS =             16777216                                                  \n",
       "DATAVALS=             16777216                                                  \n",
       "MISSVALS=                    0                                                  \n",
       "PERCENTD= 100.00                                                                \n",
       "DATAMIN =                  -15                                                  \n",
       "DATAMAX =                 2222                                                  \n",
       "DATAMEDN=                   19                                                  \n",
       "DATAMEAN= 29.53                                                                 \n",
       "DATARMS = 37.99                                                                 \n",
       "DATASKEW= 4.49                                                                  \n",
       "DATAKURT= 62.68                                                                 \n",
       "DATACENT= 38.57                                                                 \n",
       "DATAP01 = -1.00                                                                 \n",
       "DATAP10 = 1.00                                                                  \n",
       "DATAP25 = 3.00                                                                  \n",
       "DATAP75 = 49.00                                                                 \n",
       "DATAP90 = 72.00                                                                 \n",
       "DATAP95 = 89.00                                                                 \n",
       "DATAP98 = 119.00                                                                \n",
       "DATAP99 = 151.00                                                                \n",
       "NSATPIX =                    0                                                  \n",
       "OSCNMEAN= 'nan     '                                                            \n",
       "OSCNRMS = 'nan     '                                                            \n",
       "FLAT_REC= 'aia.flatfield[:#85]'                                                 \n",
       "NSPIKES =                35227                                                  \n",
       "CTYPE1  = 'HPLN-TAN'                                                            \n",
       "CUNIT1  = 'arcsec'                                                              \n",
       "CRVAL1  = 0.000000                                                              \n",
       "CDELT1  = 0.600165                                                              \n",
       "CRPIX1  = 2059.409912                                                           \n",
       "CTYPE2  = 'HPLT-TAN'                                                            \n",
       "CUNIT2  = 'arcsec'                                                              \n",
       "CRVAL2  = 0.000000                                                              \n",
       "CDELT2  = 0.600165                                                              \n",
       "CRPIX2  = 2040.569946                                                           \n",
       "CROTA2  = -0.131620                                                             \n",
       "R_SUN   = 1575.979858                                                           \n",
       "MPO_REC = 'sdo.master_pointing[:#454]'                                          \n",
       "INST_ROT= -0.131639                                                             \n",
       "IMSCL_MP= 0.600165                                                              \n",
       "X0_MP   = 2058.409912                                                           \n",
       "Y0_MP   = 2039.569946                                                           \n",
       "ASD_REC = 'sdo.lev0_asd_0004[:#19578247]'                                       \n",
       "SAT_Y0  = -7.190216                                                             \n",
       "SAT_Z0  = 18.384724                                                             \n",
       "SAT_ROT = 0.000019                                                              \n",
       "ACS_MODE= 'SCIENCE'                                                             \n",
       "ACS_ECLP= 'NO'                                                                  \n",
       "ACS_SUNP= 'YES'                                                                 \n",
       "ACS_SAFE= 'NO'                                                                  \n",
       "ACS_CGT = 'GT3'                                                                 \n",
       "ORB_REC = 'sdo.fds_orbit_vectors[2012.07.23_00:06:00_UTC]'                      \n",
       "DSUN_REF= 149597870691.0                                                        \n",
       "DSUN_OBS= 151968900754.67                                                       \n",
       "RSUN_REF= 696000000.0                                                           \n",
       "RSUN_OBS= 944.672274                                                            \n",
       "GAEX_OBS= -39084536.51                                                          \n",
       "GAEY_OBS= -8101152.01                                                           \n",
       "GAEZ_OBS= 13575516.35                                                           \n",
       "HAEX_OBS= 76838200637.87                                                        \n",
       "HAEY_OBS= -131112308358.40                                                      \n",
       "HAEZ_OBS= 17783425.37                                                           \n",
       "OBS_VR  = 2002.043874                                                           \n",
       "OBS_VW  = 29056.611864                                                          \n",
       "OBS_VN  = 4820.654876                                                           \n",
       "CRLN_OBS= 304.637299                                                            \n",
       "CRLT_OBS= 5.091498                                                              \n",
       "CAR_ROT =                 2126                                                  \n",
       "HGLN_OBS= 0.000000                                                              \n",
       "HGLT_OBS= 5.091498                                                              \n",
       "ROI_NWIN=          -2147483648                                                  \n",
       "ROI_SUM =          -2147483648                                                  \n",
       "ROI_NAX1=          -2147483648                                                  \n",
       "ROI_NAY1=          -2147483648                                                  \n",
       "ROI_LLX1=          -2147483648                                                  \n",
       "ROI_LLY1=          -2147483648                                                  \n",
       "ROI_NAX2=          -2147483648                                                  \n",
       "ROI_NAY2=          -2147483648                                                  \n",
       "ROI_LLX2=          -2147483648                                                  \n",
       "ROI_LLY2=          -2147483648                                                  \n",
       "PIXLUNIT= 'DN'                                                                  \n",
       "DN_GAIN = 18.300                                                                \n",
       "EFF_AREA= 0.046                                                                 \n",
       "EFF_AR_V= 3.000                                                                 \n",
       "TEMPCCD = -73.000                                                               \n",
       "TEMPGT  = 19.667                                                                \n",
       "TEMPSMIR= 38.419                                                                \n",
       "TEMPFPAD= 20.832                                                                \n",
       "ISPSNAME= 'aia.lev0_isp_0011'                                                   \n",
       "ISPPKTIM= '2012-07-23T00:06:41.50Z'                                             \n",
       "ISPPKTVN= '001.197'                                                             \n",
       "AIVNMST =                  453                                                  \n",
       "AIMGOTS =           1721693239                                                  \n",
       "ASQHDR  =           3271983150                                                  \n",
       "ASQTNUM =                    3                                                  \n",
       "ASQFSN  =             50757678                                                  \n",
       "AIAHFSN =             50757670                                                  \n",
       "AECDELAY=                 1533                                                  \n",
       "AIAECTI =                    0                                                  \n",
       "AIASEN  =                    0                                                  \n",
       "AIFDBID =                  241                                                  \n",
       "AIMGOTSS=                13126                                                  \n",
       "AIFCPS  =                   12                                                  \n",
       "AIFTSWTH=                    0                                                  \n",
       "AIFRMLID=                 3120                                                  \n",
       "AIFTSID =                40960                                                  \n",
       "AIHISMXB=                    7                                                  \n",
       "AIHIS192=                    0                                                  \n",
       "AIHIS348=              4315641                                                  \n",
       "AIHIS604=              8379914                                                  \n",
       "AIHIS860=              8388608                                                  \n",
       "AIFWEN  =                  204                                                  \n",
       "AIMGSHCE=                 2900                                                  \n",
       "AECTYPE =                    0                                                  \n",
       "AECMODE = 'ON'                                                                  \n",
       "AISTATE = 'CLOSED'                                                              \n",
       "AIAECENF=                    1                                                  \n",
       "AIFILTYP=                    0                                                  \n",
       "AIMSHOBC= 53.903999                                                             \n",
       "AIMSHOBE= 67.363998                                                             \n",
       "AIMSHOTC= 39.872002                                                             \n",
       "AIMSHOTE= 24.940001                                                             \n",
       "AIMSHCBC= 2955.736084                                                           \n",
       "AIMSHCBE= 2969.491943                                                           \n",
       "AIMSHCTC= 2941.788086                                                           \n",
       "AIMSHCTE= 2927.300049                                                           \n",
       "AICFGDL1=                    0                                                  \n",
       "AICFGDL2=                   25                                                  \n",
       "AICFGDL3=                   89                                                  \n",
       "AICFGDL4=                  236                                                  \n",
       "AIFOENFL=                    1                                                  \n",
       "AIMGFSN =                    3                                                  \n",
       "AIMGTYP =                    0                                                  \n",
       "AIAWVLEN=                    8                                                  \n",
       "AIAGP1  =                    0                                                  \n",
       "AIAGP2  =                    0                                                  \n",
       "AIAGP3  =                    0                                                  \n",
       "AIAGP4  =                    0                                                  \n",
       "AIAGP5  =                    0                                                  \n",
       "AIAGP6  =                    0                                                  \n",
       "AIAGP7  =                    0                                                  \n",
       "AIAGP8  =                  281                                                  \n",
       "AIAGP9  =                  345                                                  \n",
       "AIAGP10 =                  748                                                  \n",
       "AGT1SVY =                    7                                                  \n",
       "AGT1SVZ =                  -12                                                  \n",
       "AGT2SVY =                    2                                                  \n",
       "AGT2SVZ =                  -11                                                  \n",
       "AGT3SVY =                    2                                                  \n",
       "AGT3SVZ =                    1                                                  \n",
       "AGT4SVY =                    0                                                  \n",
       "AGT4SVZ =                   -2                                                  \n",
       "AIMGSHEN=                   12                                                  \n",
       "KEYWDDOC= 'http://www.lmsal.com/sdodocs/aiafitskeywords.pdf'                    \n",
       "RECNUM  =            103155054                                                  \n",
       "BLANK   =               -32768                                                  \n",
       "CHECKSUM= 'D8nKE6lHD6lHD6lH'   / HDU checksum updated 2018-04-20T11:04:01       \n",
       "DATASUM = '1452149168'         / data unit checksum updated 2018-04-20T11:04:01 "
      ]
     },
     "execution_count": 23,
     "metadata": {},
     "output_type": "execute_result"
    }
   ],
   "source": [
    "header = hdul[0].header\n",
    "header"
   ]
  },
  {
   "cell_type": "code",
   "execution_count": 24,
   "metadata": {},
   "outputs": [
    {
     "data": {
      "text/plain": [
       "(4096, 4096)"
      ]
     },
     "execution_count": 24,
     "metadata": {},
     "output_type": "execute_result"
    }
   ],
   "source": [
    "image.shape"
   ]
  },
  {
   "cell_type": "code",
   "execution_count": 50,
   "metadata": {},
   "outputs": [],
   "source": [
    "# Image to polar\n",
    "rsun_image = header\n",
    "image_polar = skimage.transform.warp_polar(\n",
    "    image,\n",
    "    center=(header['X0_MP'], header['Y0_MP']),\n",
    "    output_shape=(4096, 4096),\n",
    "    \n",
    ") #TODO: add radius later"
   ]
  },
  {
   "cell_type": "code",
   "execution_count": null,
   "metadata": {},
   "outputs": [
    {
     "data": {
      "image/png": "[encoded data removed]",
      "text/plain": [
       "<Figure size 1400x800 with 1 Axes>"
      ]
     },
     "metadata": {},
     "output_type": "display_data"
    }
   ],
   "source": [
    "plt.figure(figsize=(14, 8))\n",
    "plt.imshow(image_polar, interpolation='none')\n",
    "# plt.xlim(1600, 1900)\n",
    "# plt.ylim(140, 220)\n",
    "plt.show()"
   ]
  },
  {
   "cell_type": "markdown",
   "metadata": {},
   "source": [
    "X0_MP: Master pointing X0 sun center in CCD frame in pixels, start 0.0 (float) for raw image. so the first pixel is labeled as 0?\n",
    "columns is the x axis. so plt.plot(x, y) should be in the right order I think.\n",
    "\n",
    "other import keys might be CDELT, RSUN_REF, RSUN_OBS,"
   ]
  }
 ],
 "metadata": {
  "kernelspec": {
   "display_name": ".venv_dev",
   "language": "python",
   "name": "python3"
  },
  "language_info": {
   "codemirror_mode": {
    "name": "ipython",
    "version": 3
   },
   "file_extension": ".py",
   "mimetype": "text/x-python",
   "name": "python",
   "nbconvert_exporter": "python",
   "pygments_lexer": "ipython3",
   "version": "3.11.6"
  }
 },
 "nbformat": 4,
 "nbformat_minor": 2
}
