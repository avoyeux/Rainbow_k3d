{
 "cells": [
  {
   "cell_type": "markdown",
   "metadata": {},
   "source": [
    "## TO TEST NEW CODE"
   ]
  },
  {
   "cell_type": "code",
   "execution_count": null,
   "metadata": {},
   "outputs": [],
   "source": [
    "import os\n",
    "import skimage\n",
    "import astropy\n",
    "\n",
    "# Aliases\n",
    "import numpy as np\n",
    "import matplotlib.pyplot as plt\n",
    "\n",
    "from cartesian_to_polar import CartesianToPolar"
   ]
  },
  {
   "cell_type": "markdown",
   "metadata": {},
   "source": []
  },
  {
   "cell_type": "code",
   "execution_count": null,
   "metadata": {},
   "outputs": [],
   "source": [
    "# Import the images\n",
    "\n",
    "path = os.path.join(os.getcwd(), '..', '..', 'sdo')\n",
    "filepath = os.path.join(path, 'AIA_fullhead_000.fits.gz')\n",
    "hdul = astropy.io.fits.open(filepath)"
   ]
  },
  {
   "cell_type": "code",
   "execution_count": null,
   "metadata": {},
   "outputs": [],
   "source": [
    "new_polar = CartesianToPolar.get_polar_image(\n",
    "    image_nb=1,\n",
    "    output_shape=(10_000, 10_000),\n",
    "    borders= {\n",
    "        'radial distance': (690, 870),\n",
    "        'polar angle': (245, 295),\n",
    "    },\n",
    "    direction='clockwise',\n",
    "    theta_offset=90,\n",
    "    channel_axis=None,\n",
    ")"
   ]
  },
  {
   "cell_type": "code",
   "execution_count": null,
   "metadata": {},
   "outputs": [],
   "source": [
    "plt.figure()\n",
    "plt.imshow(new_polar.T, interpolation='none', origin='lower')\n",
    "plt.xlabel('radial distance')\n",
    "plt.ylabel('polar angle')\n",
    "plt.colorbar()\n",
    "plt.show()"
   ]
  },
  {
   "cell_type": "code",
   "execution_count": null,
   "metadata": {},
   "outputs": [],
   "source": [
    "image = hdul[0].data\n",
    "\n",
    "plt.figure()\n",
    "plt.imshow(image, interpolation='none')\n",
    "plt.colorbar()\n",
    "plt.show()"
   ]
  },
  {
   "cell_type": "markdown",
   "metadata": {},
   "source": []
  },
  {
   "cell_type": "code",
   "execution_count": null,
   "metadata": {},
   "outputs": [],
   "source": [
    "header = hdul[0].header\n",
    "header"
   ]
  },
  {
   "cell_type": "code",
   "execution_count": null,
   "metadata": {},
   "outputs": [],
   "source": [
    "# Image to polar\n",
    "rsun_image = header\n",
    "image_polar = skimage.transform.warp_polar(\n",
    "    image,\n",
    "    center=(header['X0_MP'], header['Y0_MP']),\n",
    "    output_shape=(4096, 4096),\n",
    "    \n",
    ") #TODO: add radius later"
   ]
  },
  {
   "cell_type": "code",
   "execution_count": null,
   "metadata": {},
   "outputs": [],
   "source": [
    "plt.figure(figsize=(14, 8))\n",
    "plt.imshow(image_polar, interpolation='none')\n",
    "# plt.xlim(1600, 1900)\n",
    "# plt.ylim(140, 220)\n",
    "plt.show()"
   ]
  },
  {
   "cell_type": "code",
   "execution_count": null,
   "metadata": {},
   "outputs": [],
   "source": []
  },
  {
   "cell_type": "code",
   "execution_count": null,
   "metadata": {},
   "outputs": [],
   "source": [
    "np.min(new_polar)"
   ]
  },
  {
   "cell_type": "code",
   "execution_count": null,
   "metadata": {},
   "outputs": [],
   "source": []
  },
  {
   "cell_type": "markdown",
   "metadata": {},
   "source": [
    "X0_MP: Master pointing X0 sun center in CCD frame in pixels, start 0.0 (float) for raw image. so the first pixel is labeled as 0?\n",
    "columns is the x axis. so plt.plot(x, y) should be in the right order I think.\n",
    "\n",
    "other import keys might be CDELT, RSUN_REF, RSUN_OBS,\n",
    "Do I need SAT_ROT?"
   ]
  },
  {
   "cell_type": "code",
   "execution_count": null,
   "metadata": {},
   "outputs": [],
   "source": [
    "# Try and get the d_theta for each pixel\n",
    "def get_d_theta(image: np.ndarray) -> float:\n",
    "\n",
    "    theta_length = image.shape[1]\n",
    "    print(f'theta length is {theta_length}')\n",
    "\n",
    "    d_theta = 360 / theta_length\n",
    "    print(f'd_theta is {d_theta}')\n",
    "    return d_theta"
   ]
  },
  {
   "cell_type": "code",
   "execution_count": null,
   "metadata": {},
   "outputs": [],
   "source": [
    "d_theta = get_d_theta(image_polar)"
   ]
  },
  {
   "cell_type": "code",
   "execution_count": null,
   "metadata": {},
   "outputs": [],
   "source": [
    "plt.figure(figsize=(14, 8))\n",
    "plt.imshow(image_polar.T, interpolation='none', aspect='auto')\n",
    "# plt.xlim(245 / d_theta, 295 / d_theta)\n",
    "# plt.ylim(140, 220)\n",
    "plt.show()"
   ]
  },
  {
   "cell_type": "code",
   "execution_count": null,
   "metadata": {},
   "outputs": [],
   "source": [
    "def cartesian_to_polar(\n",
    "        image: np.ndarray,\n",
    "        center: tuple[int | float, int | float],\n",
    "        direction: str,\n",
    "    ) -> dict[str, np.ndarray]:\n",
    "    \n",
    "    x, y = np.nonzero(image)\n",
    "    x_0, y_0 = center\n",
    "\n",
    "    radial_distance = np.sqrt((x - x_0)**2 + (y - y_0)**2)\n",
    "    polar_angle = np.arctan2(y - y_0, x - x_0)\n",
    "\n",
    "    polar_coordinates = {\n",
    "        'radial distance': radial_distance,\n",
    "        'polar angle': (polar_angle + np.pi) * 180 / np.pi,\n",
    "    }\n",
    "    return polar_coordinates\n",
    "\n"
   ]
  },
  {
   "cell_type": "code",
   "execution_count": null,
   "metadata": {},
   "outputs": [],
   "source": []
  },
  {
   "cell_type": "code",
   "execution_count": null,
   "metadata": {},
   "outputs": [],
   "source": [
    "test_dict = cartesian_to_polar(image, center=(header['X0_MP'], header['Y0_MP']))\n",
    "plt.figure(figsize=(14, 8))\n",
    "plt.scatter(test_dict['polar angle'], test_dict['radial distance'], s=0.01)\n",
    "# plt.imshow(image_polar.T, interpolation='none', aspect='auto')\n",
    "plt.xlim(0, 360)\n",
    "plt.ylim(0, 2000)\n",
    "plt.show()"
   ]
  },
  {
   "cell_type": "markdown",
   "metadata": {},
   "source": [
    "## IMPORTANT"
   ]
  },
  {
   "cell_type": "code",
   "execution_count": null,
   "metadata": {},
   "outputs": [],
   "source": [
    "class CartesianToPolar:\n",
    "    \"\"\"\n",
    "    To change coordinates, or an image, from the cartesian representation to polar coordinates.\n",
    "    \"\"\"\n",
    "\n",
    "    def __init__(\n",
    "            self,\n",
    "            image: np.ndarray | None,\n",
    "            center: np.ndarray | tuple[int | float, int | float],\n",
    "            output_shape: tuple[int, int],\n",
    "            borders: dict[str, any],\n",
    "            direction: str = 'anticlockwise',\n",
    "            theta_offset: int | float = 0,\n",
    "            channel_axis: None | int = None,\n",
    "            **kwargs,\n",
    "        ) -> None:\n",
    "\n",
    "        # Attributes\n",
    "        self.image = image\n",
    "        self.center = center\n",
    "        self.output_shape = output_shape\n",
    "        self.borders = borders\n",
    "        self.direction = direction\n",
    "        self.theta_offset = theta_offset\n",
    "        self.channel_axis = channel_axis\n",
    "\n",
    "        self.kwargs = kwargs\n",
    "\n",
    "        # Setup\n",
    "        self._initial_checks()\n",
    "        \n",
    "    \n",
    "    def _initial_checks(self) -> None:\n",
    "\n",
    "        # Direction keyword argument check\n",
    "        direction_options = ['solar', 'clockwise', 'anticlockwise']\n",
    "        if self.direction not in direction_options:\n",
    "            raise ValueError(f\"'{self.direction} not in permitted options. You need to choose between {', '.join(direction_options)}.\")\n",
    "        elif self.direction == 'anticlockwise':\n",
    "            polar_coordinates = self._coordinates_cartesian_to_polar()\n",
    "\n",
    "\n",
    "    def _option_setup(self):\n",
    "\n",
    "        if self.direction == 'anticlockwise':\n",
    "            polar_coordinates = self._coordinates_cartesian_to_polar() #TODO: need to add the theta offset\n",
    "            #TODO: need to add the option of the values if they exist or maybe do it later if I recreate the final image\n",
    "\n",
    "        #TODO: this might all be useless, need to check the .warp_polar documentation\n",
    "\n",
    "    def _coordinates_cartesian_to_polar(self) -> dict[str, np.ndarray]:\n",
    "        \"\"\"\n",
    "        To change the cartesian coordinates to the polar ones\n",
    "\n",
    "        Returns:\n",
    "            dict[str, np.ndarray]: the corresponding radial distance and polar angle as np.ndarrays.\n",
    "        \"\"\"\n",
    "\n",
    "        x, y = self.coordinates\n",
    "        \n",
    "        # Polar coordinates\n",
    "        radial_distance = np.sqrt((x - self.center[0])**2 + (y - self.center[1])**2)\n",
    "        polar_angle = np.arctan2(y - self.center[1], x - self.center[0])\n",
    "\n",
    "        polar_coordinates = {\n",
    "            'radial distance': radial_distance,\n",
    "            'polar angle': (polar_angle + np.pi) * 180 / np.pi,\n",
    "        }\n",
    "        return polar_coordinates\n",
    "        "
   ]
  }
 ],
 "metadata": {
  "kernelspec": {
   "display_name": ".venv_dev",
   "language": "python",
   "name": "python3"
  },
  "language_info": {
   "codemirror_mode": {
    "name": "ipython",
    "version": 3
   },
   "file_extension": ".py",
   "mimetype": "text/x-python",
   "name": "python",
   "nbconvert_exporter": "python",
   "pygments_lexer": "ipython3",
   "version": "3.11.6"
  }
 },
 "nbformat": 4,
 "nbformat_minor": 2
}
