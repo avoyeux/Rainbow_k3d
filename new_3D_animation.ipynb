{
 "cells": [
  {
   "cell_type": "markdown",
   "metadata": {},
   "source": [
    "<center>\n",
    "\n",
    "# **\"Rainbow\" 3D animation**\n",
    "\n",
    "Small code to be able to quiclky visualise the 3D data gotten for the Rainbow event. To run the code, there is a .venv/ python environment (and the equivalent requirements.txt file) in the same folder that has the necessary modules.\n",
    "</center>\n",
    "\n",
    "<font color='orange'> NOTE: </font> If on the remote server you are not using an IDE that has a jupyter notebook visualisation tool integrated inside it, then you'll need to connect through an ssh tunnel:\n",
    "\n",
    "- connect to one of the remote servers through ssh \n",
    "- create a Jupyter Lab instance in --no-bowser mode and specify the port, i.e. type **jupyter-lab --no-browser --port=8080** \n",
    "- in local, open the ssh tunnel, i.e. type **ssh -NL 8080:localhost:8080 {username}@{hostname}** \n",
    "- paste the link gotten from the Jupyter Lab instance in your browser"
   ]
  },
  {
   "cell_type": "markdown",
   "metadata": {},
   "source": [
    "#### Keyword arguments:\n",
    "\n",
    "The  keyword arguments give what will be computed and hence what is also plotted. Here I have seperated them in data, visualisation related and saving arguments.\n",
    "\n",
    "- **Data:**\n",
    "> **everything** ('bool' - default=False) : Computes everything (not recommend except if you don't mind a laggy visualisation and/or setting most of the variables to not visible manually). \\\n",
    "> **all_data** ('bool' - default=False) : visualisation of all the data (i.e. data with the duplicates). \\\n",
    "> **duplicates** ('bool' - default=False) : visualisation of the 2 data sets without duplicates from Stereo and then SDO. \\\n",
    "> **no_duplicate** ('bool' - default=False) : visualisation of the data set with only no duplicate values. \\\n",
    "> **line_of_sight** ('bool' - default=False) : visualisation of the line of sight data. \\\n",
    "> **trace_data** ('bool' - default=False) : visualisation of the \"trace\" of all the data. \\\n",
    "> **trace_no_duplicate** ('bool' - default=False) : visualisation of the \"trace\" of the no duplicate data.\\\n",
    "> **day_trace** ('bool' - default=False) : visualisation of the \"trace\" of all_data seperated by day. \\\n",
    "> **day_trace_no_duplicate** ('bool' - default=False) : visualisation of the \"trace\" of no_duplicate seperated by day. \\\n",
    "> **time_intervals_all_data** ('bool - default=False) : visualisation of the all data integration over a given time interval.\\\n",
    "> **time_intervals_no_duplicate** ('bool - default=False) : visualisation of the no duplicate integration over a given time interval.\\\n",
    "> **time_interval** ('int' or 'str' - default=1) : the time integration interval. In minutes (if 'min' in str), hours (if 'int' or 'h' in str), days (if 'd' in str).\n",
    "\n",
    "\n",
    "- **Visualisation:**\n",
    "> **compression_level** ('int' - default=5) : compression level for the data in the visualisation. minimum is -1 and maximum is 9. \\\n",
    "> **plot_height** ('int' - default=1024) : height in pixels of the visualisation (the k3d default value is set to 512). \\\n",
    "> **sun** ('bool' - default=False) : creating the Sun with the corresponding texture. \\\n",
    "> **stars** ('bool' - default=False) : creating stars in the background. \\\n",
    "> **sun_texture_resolution** ('int' - default=960) : number of pixels for the Sun's texture in the theta direction. \\\n",
    "> **sleep_time** ('int' or 'float' - default=2) : times (in seconds) between each time frame when playing the animation. 1.5 seconds is basically the non laggy minimum.\\\n",
    "> **camera_fov** ('int' or 'float' - default=1) : FOV of the camera in degrees (the initial distance of the sun is computed accordingly). \\\n",
    "> **camera_zoom_speed** ('int' or 'float' - default=0.7) : zoom speed when trying to zooming in or out. \\\n",
    "> **trace_opacity** ('int' or 'float' - default=0.1) : the opacity for any trace visualisation.\n",
    "\n",
    "- **Screenshots:**\n",
    "> **make_screenshots** ('bool' - default=False) : Creates screenshots of the display when clicking play.   \n",
    "> **screenshot_scale** ('int' - default=2) : 'Resolution' of the screenshot. The higher the number the more precise it is. \\\n",
    "> **screenshot_sleep** ('int' or 'float' - default=5) : the sleep time between each screenshot. Time is needed to synchronize the screenshots. \\\n",
    "> **screenshot_version** ('str' - default='v0') : end name of each screenshot. Needed if you want to save different point of views. "
   ]
  },
  {
   "cell_type": "code",
<<<<<<< HEAD
<<<<<<< HEAD
   "execution_count": 6,
=======
   "execution_count": 1,
>>>>>>> 6233e7b (some changes to some of the functions and deleted useless .py files)
=======
   "execution_count": 8,
>>>>>>> f5fbc3f (added some stuff but there is a major problem, need to check the commits)
   "metadata": {},
   "outputs": [
    {
     "name": "stdout",
     "output_type": "stream",
     "text": [
      "\u001b[94m__init__ started on Tue Feb  6 18:52:57 2024. \u001b[0m\n",
      "\u001b[94mProcessing_data started on Tue Feb  6 18:52:58 2024. \u001b[0m\n",
      "CUBES - 18.864Mb\n",
      "\u001b[92mProcessing_data ended on Tue Feb  6 18:53:07 2024 (9.17s).\u001b[0m\n",
      "\u001b[92m__init__ ended on Tue Feb  6 18:53:07 2024 (9.69s).\u001b[0m\n"
     ]
    },
    {
     "data": {
      "application/vnd.jupyter.widget-view+json": {
       "model_id": "e051e5f6034f49d1970c19f921a86b6b",
       "version_major": 2,
       "version_minor": 0
      },
      "text/plain": [
       "Plot(antialias=3, axes=['x', 'y', 'z'], axes_helper=1.0, axes_helper_colors=[16711680, 65280, 255], background…"
      ]
     },
     "metadata": {},
     "output_type": "display_data"
    },
    {
     "data": {
      "application/vnd.jupyter.widget-view+json": {
       "model_id": "b4cd56fc142f4a068389f00b08c379fa",
       "version_major": 2,
       "version_minor": 0
      },
      "text/plain": [
       "IntSlider(value=0, description='Frame:', max=238)"
      ]
     },
     "metadata": {},
     "output_type": "display_data"
    },
    {
     "data": {
      "application/vnd.jupyter.widget-view+json": {
       "model_id": "c7ff6e4b942041f8bc2b8a1cc4abe070",
       "version_major": 2,
       "version_minor": 0
      },
      "text/plain": [
       "Dropdown(description='Date:', options=('2012-07-23_00h06min', '2012-07-23_00h11min', '2012-07-23_00h14min', '2…"
      ]
     },
     "metadata": {},
     "output_type": "display_data"
    },
    {
     "data": {
      "application/vnd.jupyter.widget-view+json": {
       "model_id": "bba0cc4eda0343a285492a8b1540f349",
       "version_major": 2,
       "version_minor": 0
      },
      "text/plain": [
       "ToggleButton(value=False, description='Play', icon='play')"
      ]
     },
     "metadata": {},
     "output_type": "display_data"
    },
    {
     "data": {
      "text/plain": [
       "<Animation_3D_main.K3dAnimation at 0x7f7c9fe9be10>"
      ]
     },
     "execution_count": 8,
     "metadata": {},
     "output_type": "execute_result"
    }
   ],
   "source": [
    "import Animation_3D_main as visuals\n",
    "visuals.K3dAnimation(both_cubes='kar', sun=True, no_duplicate=True,\n",
    "                     fov_center='cubes', camera_pos=(0, 1, 1))"
   ]
  },
  {
   "cell_type": "code",
   "execution_count": 11,
   "metadata": {},
   "outputs": [
    {
     "name": "stdout",
     "output_type": "stream",
     "text": [
      "\u001b[94m__init__ started on Tue Feb  6 20:01:41 2024. \u001b[0m\n",
      "\u001b[94mProcessing_data started on Tue Feb  6 20:01:42 2024. \u001b[0m\n",
      "CUBES - 18.864Mb\n",
      "\u001b[92mProcessing_data ended on Tue Feb  6 20:01:52 2024 (9.62s).\u001b[0m\n",
      "\u001b[92m__init__ ended on Tue Feb  6 20:01:52 2024 (10.16s).\u001b[0m\n"
     ]
    },
    {
     "data": {
      "application/vnd.jupyter.widget-view+json": {
       "model_id": "4d833bce9fcc4b629529a165f2acf881",
       "version_major": 2,
       "version_minor": 0
      },
      "text/plain": [
       "Plot(antialias=3, axes=['x', 'y', 'z'], axes_helper=1.0, axes_helper_colors=[16711680, 65280, 255], background…"
      ]
     },
     "metadata": {},
     "output_type": "display_data"
    },
    {
     "data": {
      "application/vnd.jupyter.widget-view+json": {
       "model_id": "266dbd8dcc3e440fb28e6934b2bfa71c",
       "version_major": 2,
       "version_minor": 0
      },
      "text/plain": [
       "IntSlider(value=0, description='Frame:', max=238)"
      ]
     },
     "metadata": {},
     "output_type": "display_data"
    },
    {
     "data": {
      "application/vnd.jupyter.widget-view+json": {
       "model_id": "266f7501b9d541c8b8ca3d029e8f1a74",
       "version_major": 2,
       "version_minor": 0
      },
      "text/plain": [
       "Dropdown(description='Date:', options=('2012-07-23_00h06min', '2012-07-23_00h11min', '2012-07-23_00h14min', '2…"
      ]
     },
     "metadata": {},
     "output_type": "display_data"
    },
    {
     "data": {
      "application/vnd.jupyter.widget-view+json": {
       "model_id": "ad867edabd4243ccac9f6c56930e4cde",
       "version_major": 2,
       "version_minor": 0
      },
      "text/plain": [
       "ToggleButton(value=False, description='Play', icon='play')"
      ]
     },
     "metadata": {},
     "output_type": "display_data"
    },
    {
     "data": {
      "text/plain": [
       "<Animation_3D_main.K3dAnimation at 0x7f8cc0a63650>"
      ]
     },
     "execution_count": 11,
     "metadata": {},
     "output_type": "execute_result"
    }
   ],
   "source": [
    "import Animation_3D_main as visuals\n",
    "visuals.K3dAnimation(both_cubes='kar', sun=True, no_duplicate=True,\n",
    "                     fov_center='cubes', camera_pos=(0, 0, -1), up_vector=(-1, 0, 0))"
   ]
  },
  {
   "cell_type": "code",
   "execution_count": 1,
   "metadata": {},
   "outputs": [
    {
     "name": "stdout",
     "output_type": "stream",
     "text": [
      "\u001b[94m__init__ started on Fri Feb  9 17:23:54 2024. \u001b[0m\n",
      "\u001b[94mProcessing_data started on Fri Feb  9 17:23:54 2024. \u001b[0m\n",
      "CUBES - 18.864Mb\n",
      "\u001b[92mProcessing_data ended on Fri Feb  9 17:24:04 2024 (9.4s).\u001b[0m\n",
      "\u001b[92m__init__ ended on Fri Feb  9 17:24:05 2024 (11.16s).\u001b[0m\n"
     ]
    },
    {
     "name": "stderr",
     "output_type": "stream",
     "text": [
      "/home/avoyeux/Documents/avoyeux/python_codes/.venv_for_k3d/lib/python3.11/site-packages/traittypes/traittypes.py:97: UserWarning: Given trait value dtype \"uint8\" does not match required type \"uint8\". A coerced copy has been created.\n",
      "  warnings.warn(\n"
     ]
    },
    {
     "data": {
      "application/vnd.jupyter.widget-view+json": {
       "model_id": "6d5866a695654b7d85bddbf8fb3d8f22",
       "version_major": 2,
       "version_minor": 0
      },
      "text/plain": [
       "Plot(antialias=3, axes=['x', 'y', 'z'], axes_helper=1.0, axes_helper_colors=[16711680, 65280, 255], background…"
      ]
     },
     "metadata": {},
     "output_type": "display_data"
    },
    {
     "data": {
      "application/vnd.jupyter.widget-view+json": {
       "model_id": "b329ce4689f849d591a8eb8adfbaddf4",
       "version_major": 2,
       "version_minor": 0
      },
      "text/plain": [
       "IntSlider(value=0, description='Frame:', max=412)"
      ]
     },
     "metadata": {},
     "output_type": "display_data"
    },
    {
     "data": {
      "application/vnd.jupyter.widget-view+json": {
       "model_id": "93866e9279c6427c8a3c0c309185b35f",
       "version_major": 2,
       "version_minor": 0
      },
      "text/plain": [
       "Dropdown(description='Date:', options=('2012-07-23_00h06min', '2012-07-23_00h11min', '2012-07-23_00h14min', '2…"
      ]
     },
     "metadata": {},
     "output_type": "display_data"
    },
    {
     "data": {
      "application/vnd.jupyter.widget-view+json": {
       "model_id": "f4f618b8a0924b3ab51a7d6c3e9df095",
       "version_major": 2,
       "version_minor": 0
      },
      "text/plain": [
       "ToggleButton(value=False, description='Play', icon='play')"
      ]
     },
     "metadata": {},
     "output_type": "display_data"
    },
    {
     "data": {
      "text/plain": [
       "<Animation_3D_main.K3dAnimation at 0x7fcbe9d55650>"
      ]
     },
     "execution_count": 1,
     "metadata": {},
     "output_type": "execute_result"
    }
   ],
   "source": [
    "import Animation_3D_main as visuals\n",
    "visuals.K3dAnimation.The_usual(version=3, data='no_duplicates')"
   ]
  },
  {
   "cell_type": "code",
   "execution_count": null,
   "metadata": {},
   "outputs": [],
   "source": []
  }
 ],
 "metadata": {
  "kernelspec": {
   "display_name": "Python 3 (ipykernel)",
   "language": "python",
   "name": "python3"
  },
  "language_info": {
   "codemirror_mode": {
    "name": "ipython",
    "version": 3
   },
   "file_extension": ".py",
   "mimetype": "text/x-python",
   "name": "python",
   "nbconvert_exporter": "python",
   "pygments_lexer": "ipython3",
   "version": "3.11.6"
  }
 },
 "nbformat": 4,
 "nbformat_minor": 4
}
