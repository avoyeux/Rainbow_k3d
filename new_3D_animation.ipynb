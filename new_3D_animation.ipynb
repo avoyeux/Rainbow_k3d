{
 "cells": [
  {
   "cell_type": "markdown",
   "metadata": {},
   "source": [
    "<center>\n",
    "\n",
    "# **\"Rainbow\" 3D animation**\n",
    "\n",
    "Small code to be able to quiclky visualise the 3D data gotten for the Rainbow event. To run the code, there is a .venv/ python environment (and the equivalent requirements.txt file) in the same folder that has the necessary modules.\n",
    "</center>\n",
    "\n",
    "<font color='orange'> NOTE: </font> If on the remote server you are not using an IDE that has a jupyter notebook visualisation tool integrated inside it, then you'll need to connect through an ssh tunnel:\n",
    "\n",
    "- connect to one of the remote servers through ssh \n",
    "- create a Jupyter Lab instance in --no-bowser mode and specify the port, i.e. type **jupyter-lab --no-browser --port=8080** \n",
    "- in local, open the ssh tunnel, i.e. type **ssh -NL 8080:localhost:8080 {username}@{hostname}** \n",
    "- paste the link gotten from the Jupyter Lab instance in your browser"
   ]
  },
  {
   "cell_type": "markdown",
   "metadata": {},
   "source": [
    "#### Keyword arguments:\n",
    "\n",
    "The  keyword arguments give what will be computed and hence what is also plotted.\n",
    "\n",
    "- **Data:**\n",
    "> **everything** ('bool' - default=False) : Computes everything (not recommend except if you don't mind a laggy visualisation and/or setting most of the variables to not visible manually). \\\n",
    "> **all_data** ('bool' - default=False) : visualisation of all the data (i.e. data with the duplicates). \\\n",
    "> **duplicates** ('bool' - default=False) : visualisation of the 2 data sets without duplicates from Stereo and then SDO. \\\n",
    "> **no_duplicate** ('bool' - default=False) : visualisation of the data set with only no duplicate values. \\\n",
    "> **line_of_sight** ('bool' - default=False) : visualisation of the line of sight data. \\\n",
    "> **trace_data** ('bool' - default=False) : visualisation of the \"trace\" of all the data. \\\n",
    "> **trace_no_duplicate** ('bool' - default=False) : visualisation of the \"trace\" of the no duplicate data.\\\n",
    "> **day_trace** ('bool' - default=False) : visualisation of the \"trace\" of all_data seperated by day. \\\n",
    "> **day_trace_no_duplicate** ('bool' - default=False) : visualisation of the \"trace\" of no_duplicate seperated by day. \\\n",
    "> **time_intervals_all_data** ('bool - default=False) : visualisation of the all data integration over a given time interval.\\\n",
    "> **time_intervals_no_duplicate** ('bool - default=False) : visualisation of the no duplicate integration over a given time interval.\\\n",
    "> **time_interval** ('int' or 'str' - default=1) : the time integration interval. In minutes (if 'min' in str), hours (if 'int' or 'h' in str), days (if 'd' in str).\n",
    "\n",
    "\n",
    "- **Visualisation:**\n",
    "> **compression_level** ('int' - default=9) : compression level for the data in the visualisation. minimum is -1 and maximum is 9. \\\n",
    "> **plot_height** ('int' - default=1260) : height in pixels of the visualisation (the k3d default value is set to 512). \\\n",
    "> **sun** ('bool' - default=False) : creating the Sun with the corresponding texture. \\\n",
    "> **stars** ('bool' - default=False) : creating stars in the background. \\\n",
    "> **sun_texture_resolution** ('int' - default=960) : number of pixels for the Sun's texture in the theta direction. \\\n",
    "> **sleep_time** ('int' or 'float' - default=2) : times (in seconds) between each time frame when playing the animation. 1.5 seconds is basically the non laggy minimum.\\\n",
    "> **camera_fov** ('int' or 'float' - default=1) : FOV of the camera in degrees (the initial distance of the sun is computed accordingly). \\\n",
    "> **camera_pos** ('tuple[int | float, int | float, int | float]' or None - default=None) : position of the camera multiplied by 1au. \\\n",
    "> **camera_zoom_speed** ('int' or 'float' - default=0.7) : zoom speed when trying to zooming in or out. \\\n",
    "> **fov_center** ('tuple[int | float, int | float, int | float]' or 'str' - default='cubes') : choosing the center of the camera field of view. When a string, can choose between 'cubes' or 'sun' as the center. \\\n",
    "> **stereo_pov** ('bool' - default=Flase) : choosing to follow the point of view of STEREO. 'camera_fov' is also automatically set. \\\n",
    "> **sdo_pov** ('bool' - default=False) : choosing to follow the point of view of SDO. 'camera_fov' is automatically set. \\\n",
    "> **trace_opacity** ('int' or 'float' - default=0.1) : the opacity for any trace visualisation. \\\n",
    "> **up_vector** ('tuple[int, int, int]' - default=(0, 0, 1) : choosing the up vector of the camera.\n",
    "\n",
    "- **Screenshots:**\n",
    "> **make_screenshots** ('bool' - default=False) : Creates screenshots of the display when clicking play.   \n",
    "> **screenshot_scale** ('int' - default=2) : 'Resolution' of the screenshot. The higher the number the more precise it is. \\\n",
    "> **screenshot_sleep** ('int' or 'float' - default=5) : the sleep time between each screenshot. Time is needed to synchronize the screenshots. \\\n",
    "> **screenshot_version** ('str' - default='v0') : end name of each screenshot. Needed if you want to save different point of views.\n",
    "\n",
    "- **Class methods:**\n",
    ">**K3dAnimation.The_usual**(version: int, data:str = 'no_duplicate', **kwargs): To automatically use the usual arguments for for the *K3dAnimation Class* depending on the version of the screenshot that needs to be saved ('version' can has an integer value of 0 to 3 included). 'data' decides the data type that you want to save. Not all data types are possible here. Only 'all_data', 'no_duplicate' and the corresponding time_interval data are allowed. Furthermore, you can also manually change the arguments if needed be (e.g. 'screenshot_version' if you are testing stuff).\n",
    "\n",
    "- **Miscellaneous:**\n",
    "> **_batch_number** ('int' - default=6) : number of processes for the I/O bound tasks."
   ]
  },
  {
   "cell_type": "code",
<<<<<<< HEAD
<<<<<<< HEAD
   "execution_count": 6,
=======
   "execution_count": 1,
>>>>>>> 6233e7b (some changes to some of the functions and deleted useless .py files)
=======
   "execution_count": 8,
>>>>>>> f5fbc3f (added some stuff but there is a major problem, need to check the commits)
   "metadata": {},
   "outputs": [
    {
     "name": "stdout",
     "output_type": "stream",
     "text": [
      "\u001b[94m__init__ started on Tue Feb  6 18:52:57 2024. \u001b[0m\n",
      "\u001b[94mProcessing_data started on Tue Feb  6 18:52:58 2024. \u001b[0m\n",
      "CUBES - 18.864Mb\n",
      "\u001b[92mProcessing_data ended on Tue Feb  6 18:53:07 2024 (9.17s).\u001b[0m\n",
      "\u001b[92m__init__ ended on Tue Feb  6 18:53:07 2024 (9.69s).\u001b[0m\n"
     ]
    },
    {
     "data": {
      "application/vnd.jupyter.widget-view+json": {
       "model_id": "e051e5f6034f49d1970c19f921a86b6b",
       "version_major": 2,
       "version_minor": 0
      },
      "text/plain": [
       "Plot(antialias=3, axes=['x', 'y', 'z'], axes_helper=1.0, axes_helper_colors=[16711680, 65280, 255], background…"
      ]
     },
     "metadata": {},
     "output_type": "display_data"
    },
    {
     "data": {
      "application/vnd.jupyter.widget-view+json": {
       "model_id": "b4cd56fc142f4a068389f00b08c379fa",
       "version_major": 2,
       "version_minor": 0
      },
      "text/plain": [
       "IntSlider(value=0, description='Frame:', max=238)"
      ]
     },
     "metadata": {},
     "output_type": "display_data"
    },
    {
     "data": {
      "application/vnd.jupyter.widget-view+json": {
       "model_id": "c7ff6e4b942041f8bc2b8a1cc4abe070",
       "version_major": 2,
       "version_minor": 0
      },
      "text/plain": [
       "Dropdown(description='Date:', options=('2012-07-23_00h06min', '2012-07-23_00h11min', '2012-07-23_00h14min', '2…"
      ]
     },
     "metadata": {},
     "output_type": "display_data"
    },
    {
     "data": {
      "application/vnd.jupyter.widget-view+json": {
       "model_id": "bba0cc4eda0343a285492a8b1540f349",
       "version_major": 2,
       "version_minor": 0
      },
      "text/plain": [
       "ToggleButton(value=False, description='Play', icon='play')"
      ]
     },
     "metadata": {},
     "output_type": "display_data"
    },
    {
     "data": {
      "text/plain": [
       "<Animation_3D_main.K3dAnimation at 0x7f7c9fe9be10>"
      ]
     },
     "execution_count": 8,
     "metadata": {},
     "output_type": "execute_result"
    }
   ],
   "source": [
    "import Animation_3D_main as visuals\n",
    "visuals.K3dAnimation(both_cubes='kar', sun=True, no_duplicate=True,\n",
    "                     fov_center='cubes', camera_pos=(0, 1, 1))"
   ]
  },
  {
   "cell_type": "code",
   "execution_count": 1,
   "metadata": {},
   "outputs": [
    {
     "name": "stdout",
     "output_type": "stream",
     "text": [
      "\u001b[94m__init__ started on Wed Feb 14 15:08:51 2024. \u001b[0m\n",
      "\u001b[94mProcessing_data started on Wed Feb 14 15:08:51 2024. \u001b[0m\n",
      "CUBES - 18.864Mb\n",
      "\u001b[92mProcessing_data ended on Wed Feb 14 15:09:01 2024 (9.82s).\u001b[0m\n",
      "[80.0, 160.0, 240.0, 320.0, 400.0, 480.0, 560.0, 640.0, 720.0, 800.0, 880.0]\n",
      "\u001b[92m__init__ ended on Wed Feb 14 15:09:02 2024 (11.35s).\u001b[0m\n",
      "no 'camera_pos', setting default values.\n"
     ]
    },
    {
     "name": "stderr",
     "output_type": "stream",
     "text": [
      "/home/avoyeux/Documents/avoyeux/python_codes/.venv_for_k3d/lib/python3.11/site-packages/traittypes/traittypes.py:97: UserWarning: Given trait value dtype \"uint8\" does not match required type \"uint8\". A coerced copy has been created.\n",
      "  warnings.warn(\n"
     ]
    },
    {
     "data": {
      "application/vnd.jupyter.widget-view+json": {
       "model_id": "d4501f312c95419f94d4628db224fc51",
       "version_major": 2,
       "version_minor": 0
      },
      "text/plain": [
       "Plot(antialias=3, axes=['x', 'y', 'z'], axes_helper=1.0, axes_helper_colors=[16711680, 65280, 255], background…"
      ]
     },
     "metadata": {},
     "output_type": "display_data"
    },
    {
     "data": {
      "application/vnd.jupyter.widget-view+json": {
       "model_id": "87a1d58de29f43cca49f13d8d2fcd738",
       "version_major": 2,
       "version_minor": 0
      },
      "text/plain": [
       "IntSlider(value=0, description='Frame:', max=238)"
      ]
     },
     "metadata": {},
     "output_type": "display_data"
    },
    {
     "data": {
      "application/vnd.jupyter.widget-view+json": {
       "model_id": "5b7c0c0a65674d14a1e48372b448b751",
       "version_major": 2,
       "version_minor": 0
      },
      "text/plain": [
       "Dropdown(description='Date:', options=('2012-07-23_00h06min', '2012-07-23_00h11min', '2012-07-23_00h14min', '2…"
      ]
     },
     "metadata": {},
     "output_type": "display_data"
    },
    {
     "data": {
      "application/vnd.jupyter.widget-view+json": {
       "model_id": "1b8b8d069a044c41aa9cdd5425980ec4",
       "version_major": 2,
       "version_minor": 0
      },
      "text/plain": [
       "ToggleButton(value=False, description='Play', icon='play')"
      ]
     },
     "metadata": {},
     "output_type": "display_data"
    },
    {
     "data": {
      "text/plain": [
       "<Animation_3D_main.K3dAnimation at 0x7f5ed5de4290>"
      ]
     },
     "execution_count": 1,
     "metadata": {},
     "output_type": "execute_result"
    }
   ],
   "source": [
    "import Animation_3D_main as visuals\n",
    "visuals.K3dAnimation(both_cubes='kar', sun=True, no_duplicate=True, fov_center='cubes')"
   ]
  },
  {
   "cell_type": "code",
   "execution_count": 1,
   "metadata": {},
   "outputs": [
    {
     "name": "stdout",
     "output_type": "stream",
     "text": [
      "\u001b[94m__init__ started on Wed Feb 14 17:21:03 2024. \u001b[0m\n",
      "\u001b[94mProcessing_data started on Wed Feb 14 17:21:04 2024. \u001b[0m\n",
      "CUBES - 18.94Mb\n",
      "\u001b[92mProcessing_data ended on Wed Feb 14 17:21:13 2024 (9.5s).\u001b[0m\n",
      "[60.0, 120.0, 180.0, 240.0, 300.0, 360.0, 420.0, 480.0, 540.0, 600.0, 660.0]\n",
      "\u001b[92m__init__ ended on Wed Feb 14 17:21:14 2024 (11.1s).\u001b[0m\n",
      "no 'camera_pos', setting default values.\n"
     ]
    },
    {
     "name": "stderr",
     "output_type": "stream",
     "text": [
      "/home/avoyeux/Documents/avoyeux/python_codes/.venv_for_k3d/lib/python3.11/site-packages/traittypes/traittypes.py:97: UserWarning: Given trait value dtype \"uint8\" does not match required type \"uint8\". A coerced copy has been created.\n",
      "  warnings.warn(\n"
     ]
    },
    {
     "data": {
      "application/vnd.jupyter.widget-view+json": {
       "model_id": "b9503b746e844022a31dc7f88329656c",
       "version_major": 2,
       "version_minor": 0
      },
      "text/plain": [
       "Plot(antialias=3, axes=['x', 'y', 'z'], axes_helper=1.0, axes_helper_colors=[16711680, 65280, 255], background…"
      ]
     },
     "metadata": {},
     "output_type": "display_data"
    },
    {
     "data": {
      "application/vnd.jupyter.widget-view+json": {
       "model_id": "5926a1d2427e468fb70ac612c52b59aa",
       "version_major": 2,
       "version_minor": 0
      },
      "text/plain": [
       "IntSlider(value=0, description='Frame:', max=238)"
      ]
     },
     "metadata": {},
     "output_type": "display_data"
    },
    {
     "data": {
      "application/vnd.jupyter.widget-view+json": {
       "model_id": "df81e968ba1c43d183238171dc54c49d",
       "version_major": 2,
       "version_minor": 0
      },
      "text/plain": [
       "Dropdown(description='Date:', options=('2012-07-23_00h06min', '2012-07-23_00h11min', '2012-07-23_00h14min', '2…"
      ]
     },
     "metadata": {},
     "output_type": "display_data"
    },
    {
     "data": {
      "application/vnd.jupyter.widget-view+json": {
       "model_id": "d86118d51bdc45ee98350f8609d844a9",
       "version_major": 2,
       "version_minor": 0
      },
      "text/plain": [
       "ToggleButton(value=False, description='Play', icon='play')"
      ]
     },
     "metadata": {},
     "output_type": "display_data"
    },
    {
     "data": {
      "text/plain": [
       "<Animation_3D_main.K3dAnimation at 0x7f9a25377450>"
      ]
     },
     "execution_count": 1,
     "metadata": {},
     "output_type": "execute_result"
    }
   ],
   "source": [
    "import Animation_3D_main as visuals\n",
    "visuals.K3dAnimation(both_cubes='kar', sun=True, no_duplicate=True, fov_center='cubes')"
   ]
  },
  {
   "cell_type": "code",
   "execution_count": 1,
   "metadata": {},
   "outputs": [
    {
     "name": "stdout",
     "output_type": "stream",
     "text": [
      "\u001b[94m__init__ started on Fri Feb 16 11:26:49 2024. \u001b[0m\n",
      "\u001b[94mProcessing_data started on Fri Feb 16 11:26:50 2024. \u001b[0m\n",
      "CUBES - 18.864Mb\n",
      "\u001b[92mProcessing_data ended on Fri Feb 16 11:27:02 2024 (12.28s).\u001b[0m\n",
      "[60.0, 120.0, 180.0, 240.0, 300.0, 360.0, 420.0, 480.0, 540.0, 600.0, 660.0]\n",
      "\u001b[92m__init__ ended on Fri Feb 16 11:27:02 2024 (12.91s).\u001b[0m\n"
     ]
    },
    {
     "name": "stderr",
     "output_type": "stream",
     "text": [
      "/home/avoyeux/Documents/avoyeux/python_codes/.venv_for_k3d/lib/python3.11/site-packages/traittypes/traittypes.py:97: UserWarning: Given trait value dtype \"uint8\" does not match required type \"uint8\". A coerced copy has been created.\n",
      "  warnings.warn(\n"
     ]
    },
    {
     "data": {
      "application/vnd.jupyter.widget-view+json": {
       "model_id": "3473ea6a41964eeb95f178842a5ddbd6",
       "version_major": 2,
       "version_minor": 0
      },
      "text/plain": [
       "Plot(antialias=3, axes=['x', 'y', 'z'], axes_helper=1.0, axes_helper_colors=[16711680, 65280, 255], background…"
      ]
     },
     "metadata": {},
     "output_type": "display_data"
    },
    {
     "data": {
      "application/vnd.jupyter.widget-view+json": {
       "model_id": "ae34b78cba47461681f358abcc1d9460",
       "version_major": 2,
       "version_minor": 0
      },
      "text/plain": [
       "IntSlider(value=0, description='Frame:', max=238)"
      ]
     },
     "metadata": {},
     "output_type": "display_data"
    },
    {
     "data": {
      "application/vnd.jupyter.widget-view+json": {
       "model_id": "b49b56877f1f46ab84d32a4208c1e7d6",
       "version_major": 2,
       "version_minor": 0
      },
      "text/plain": [
       "Dropdown(description='Date:', options=('2012-07-23_00h06min', '2012-07-23_00h11min', '2012-07-23_00h14min', '2…"
      ]
     },
     "metadata": {},
     "output_type": "display_data"
    },
    {
     "data": {
      "application/vnd.jupyter.widget-view+json": {
       "model_id": "18f273a229564542a68c43071604c43a",
       "version_major": 2,
       "version_minor": 0
      },
      "text/plain": [
       "ToggleButton(value=False, description='Play', icon='play')"
      ]
     },
     "metadata": {},
     "output_type": "display_data"
    },
    {
     "data": {
      "text/plain": [
       "<Animation_3D_main.K3dAnimation at 0x7f8cb6d07c50>"
      ]
     },
     "execution_count": 1,
     "metadata": {},
     "output_type": "execute_result"
    }
   ],
   "source": [
    "import Animation_3D_main as visuals\n",
    "visuals.K3dAnimation.The_usual(version=3, data='intervals_no_dupli', time_interval='1h', make_screenshots=False)"
   ]
  },
  {
   "cell_type": "code",
   "execution_count": 2,
   "metadata": {},
   "outputs": [
    {
     "name": "stdout",
     "output_type": "stream",
     "text": [
      "\u001b[94m__init__ started on Fri Mar  1 16:04:44 2024. \u001b[0m\n",
      "\u001b[94mProcessing_data started on Fri Mar  1 16:04:45 2024. \u001b[0m\n",
      "CUBES - 18.932Mb\n",
      "\u001b[92mProcessing_data ended on Fri Mar  1 16:04:54 2024 (9.63s).\u001b[0m\n",
      "[60.0, 120.0, 180.0, 240.0, 300.0, 360.0, 420.0, 480.0, 540.0, 600.0, 660.0]\n",
      "\u001b[92m__init__ ended on Fri Mar  1 16:04:55 2024 (10.17s).\u001b[0m\n",
      "no 'camera_pos', setting default values.\n"
     ]
    },
    {
     "data": {
      "application/vnd.jupyter.widget-view+json": {
       "model_id": "1905b142ac744acca1fd265b6f46129a",
       "version_major": 2,
       "version_minor": 0
      },
      "text/plain": [
       "Plot(antialias=3, axes=['x', 'y', 'z'], axes_helper=1.0, axes_helper_colors=[16711680, 65280, 255], background…"
      ]
     },
     "metadata": {},
     "output_type": "display_data"
    },
    {
     "data": {
      "application/vnd.jupyter.widget-view+json": {
       "model_id": "b141364a52884c569c6d40e18f816e51",
       "version_major": 2,
       "version_minor": 0
      },
      "text/plain": [
       "IntSlider(value=0, description='Frame:', max=238)"
      ]
     },
     "metadata": {},
     "output_type": "display_data"
    },
    {
     "data": {
      "application/vnd.jupyter.widget-view+json": {
       "model_id": "87750539fa544758bf30fd3ac21b82b1",
       "version_major": 2,
       "version_minor": 0
      },
      "text/plain": [
       "Dropdown(description='Date:', options=('2012-07-23_00h06min', '2012-07-23_00h11min', '2012-07-23_00h14min', '2…"
      ]
     },
     "metadata": {},
     "output_type": "display_data"
    },
    {
     "data": {
      "application/vnd.jupyter.widget-view+json": {
       "model_id": "a7e21edda23449969e92f8fc64b091f5",
       "version_major": 2,
       "version_minor": 0
      },
      "text/plain": [
       "ToggleButton(value=False, description='Play', icon='play')"
      ]
     },
     "metadata": {},
     "output_type": "display_data"
    },
    {
     "data": {
      "text/plain": [
       "<Animation_3D_main.K3dAnimation at 0x7f4d375f3790>"
      ]
     },
     "execution_count": 2,
     "metadata": {},
     "output_type": "execute_result"
    }
   ],
   "source": [
    "import Animation_3D_main as visuals\n",
    "visuals.K3dAnimation(both_cubes='kar', sun=True, no_duplicate=True, all_data=True, cube_version='both')"
   ]
  },
  {
   "cell_type": "code",
   "execution_count": null,
   "metadata": {},
   "outputs": [],
   "source": []
  }
 ],
 "metadata": {
  "kernelspec": {
   "display_name": "Python 3 (ipykernel)",
   "language": "python",
   "name": "python3"
  },
  "language_info": {
   "codemirror_mode": {
    "name": "ipython",
    "version": 3
   },
   "file_extension": ".py",
   "mimetype": "text/x-python",
   "name": "python",
   "nbconvert_exporter": "python",
   "pygments_lexer": "ipython3",
   "version": "3.11.6"
  }
 },
 "nbformat": 4,
 "nbformat_minor": 4
}
