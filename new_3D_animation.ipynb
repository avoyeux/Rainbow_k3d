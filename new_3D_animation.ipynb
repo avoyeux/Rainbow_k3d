{
 "cells": [
  {
   "cell_type": "markdown",
   "metadata": {},
   "source": [
    "<center>\n",
    "\n",
    "# **\"Rainbow\" 3D animation**\n",
    "\n",
    "Small code to be able to quiclky visualise the 3D data gotten for the Rainbow event. To run the code, there is a .venv/ python environment (and the equivalent requirements.txt file) in the same folder that has the necessary modules.\n",
    "</center>\n",
    "\n",
    "<font color='orange'> NOTE: </font> If on the remote server you are not using an IDE that has a jupyter notebook visualisation tool integrated inside it, then you'll need to connect through an ssh tunnel:\n",
    "\n",
    "- connect to one of the remote servers through ssh \n",
    "- create a Jupyter Lab instance in --no-bowser mode and specify the port, i.e. type **jupyter-lab --no-browser --port=8080** \n",
    "- in local, open the ssh tunnel, i.e. type **ssh -NL 8080:localhost:8080 {username}@{hostname}** \n",
    "- paste the link gotten from the Jupyter Lab instance in your browser"
   ]
  },
  {
   "cell_type": "markdown",
   "metadata": {},
   "source": [
    "### Importing and running the code\n",
    "\n",
    "As the code became longer, I opted to put the code in a *Python* file so that it is easier to read and manage (as opposed to *Jupyter Notebook* cells)."
   ]
  },
  {
   "cell_type": "code",
   "execution_count": 2,
   "metadata": {},
   "outputs": [],
   "source": [
    "# Importing the animation code\n",
    "import Animation_3D_main as visuals"
   ]
  },
  {
   "cell_type": "markdown",
   "metadata": {},
   "source": [
    "#### Keyword arguments:\n",
    "\n",
    "The  keyword arguments give what will be computed and hence what is also plotted. Here I have seperated them in data, visualisation related and saving arguments.\n",
    "\n",
    "- **Data:**\n",
    "> **everything** ('bool' - default=False) : Computes everything (not recommend except if you don't mind a laggy visualisation and/or setting most of the variables to not visible manually). \\\n",
    "> **all_data** ('bool' - default=False) : visualisation of all the data (i.e. data with the duplicates). \\\n",
    "> **duplicates** ('bool' - default=False) : visualisation of the 2 data sets without duplicates from Stereo and then SDO. \\\n",
    "> **no_duplicate** ('bool' - default=False) : visualisation of the data set with only no duplicate values. \\\n",
    "> **line_of_sight** ('bool' - default=False) : visualisation of the line of sight data. \\\n",
    "> **trace_data** ('bool' - default=False) : visualisation of the \"trace\" of all the data. \\\n",
    "> **trace_no_duplicate** ('bool' - default=False) : visualisation of the \"trace\" of the no duplicate data.\\\n",
    "> **day_trace** ('bool' - default=False) : visualisation of the \"trace\" of all_data seperated by day. \\\n",
    "> **day_trace_no_duplicate** ('bool' - default=False) : visualisation of the \"trace\" of no_duplicate seperated by day. \\\n",
    "> **time_intervals_all_data** ('bool - default=False) : visualisation of the all data integration over a given time interval.\\\n",
    "> **time_intervals_no_duplicate** ('bool - default=False) : visualisation of the no duplicate integration over a given time interval.\\\n",
    "> **time_interval** ('int' or 'str' - default=1) : the time integration interval. In minutes (if 'min' in str), hours (if 'int' or 'h' in str), days (if 'd' in str).\n",
    "\n",
    "\n",
    "- **Visualisation:**\n",
    "> **compression_level** ('int' - default=5) : compression level for the data in the visualisation. minimum is -1 and maximum is 9. \\\n",
    "> **plot_height** ('int' - default=1024) : height in pixels of the visualisation (the k3d default value is set to 512). \\\n",
    "> **sun** ('bool' - default=False) : creating the Sun with the corresponding texture. \\\n",
    "> **stars** ('bool' - default=False) : creating stars in the background. \\\n",
    "> **sun_texture_resolution** ('int' - default=960) : number of pixels for the Sun's texture in the theta direction. \\\n",
    "> **sleep_time** ('int' or 'float' - default=2) : times (in seconds) between each time frame when playing the animation. 1.5 seconds is basically the non laggy minimum.\\\n",
    "> **camera_fov** ('int' or 'float' - default=1) : FOV of the camera in degrees (the initial distance of the sun is computed accordingly). \\\n",
    "> **camera_zoom_speed** ('int' or 'float' - default=0.7) : zoom speed when trying to zooming in or out. \\\n",
    "> **trace_opacity** ('int' or 'float' - default=0.1) : the opacity for any trace visualisation.\n",
    "\n",
    "- **Screenshots:**\n",
    "> **make_screenshots** ('bool' - default=False) : Creates screenshots of the display when clicking play.   \n",
    "> **screenshot_scale** ('int' - default=2) : 'Resolution' of the screenshot. The higher the number the more precise it is. \\\n",
    "> **screenshot_sleep** ('int' or 'float' - default=5) : the sleep time between each screenshot. Time is needed to synchronize the screenshots. \\\n",
    "> **screenshot_version** ('str' - default='v0') : end name of each screenshot. Needed if you want to save different point of views. "
   ]
  },
  {
   "cell_type": "code",
   "execution_count": 6,
   "metadata": {},
   "outputs": [
    {
     "data": {
      "application/vnd.jupyter.widget-view+json": {
       "model_id": "37809d76e2b2402d8381bdc711d3938b",
       "version_major": 2,
       "version_minor": 0
      },
      "text/plain": [
       "Plot(antialias=3, axes=['x', 'y', 'z'], axes_helper=1.0, axes_helper_colors=[16711680, 65280, 255], camera=[-1…"
      ]
     },
     "metadata": {},
     "output_type": "display_data"
    },
    {
     "data": {
      "application/vnd.jupyter.widget-view+json": {
       "model_id": "d05b562c89c34615a8d53f02d556d485",
       "version_major": 2,
       "version_minor": 0
      },
      "text/plain": [
       "IntSlider(value=0, description='Frame:', max=190)"
      ]
     },
     "metadata": {},
     "output_type": "display_data"
    },
    {
     "data": {
      "application/vnd.jupyter.widget-view+json": {
       "model_id": "77a6f2fd334f4696b39eb91b24071333",
       "version_major": 2,
       "version_minor": 0
      },
      "text/plain": [
       "Dropdown(description='Date:', options=('2012-07-23_00h06min', '2012-07-23_00h11min', '2012-07-23_00h14min', '2…"
      ]
     },
     "metadata": {},
     "output_type": "display_data"
    },
    {
     "data": {
      "application/vnd.jupyter.widget-view+json": {
       "model_id": "512f34787d0c412098d6311022319793",
       "version_major": 2,
       "version_minor": 0
      },
      "text/plain": [
       "ToggleButton(value=False, description='Play', icon='play')"
      ]
     },
     "metadata": {},
     "output_type": "display_data"
    },
    {
     "data": {
      "text/plain": [
       "<Animation_3D_main.K3dAnimation at 0x7fa2199cb8d0>"
      ]
     },
     "execution_count": 3,
     "metadata": {},
     "output_type": "execute_result"
    }
   ],
   "source": [
    "visuals.K3dAnimation(sun=True,\n",
    "                    both_cubes=True,\n",
    "                    all_data=True,\n",
    "                    no_duplicate=True)"
   ]
  },
  {
   "cell_type": "code",
   "execution_count": 4,
   "metadata": {},
   "outputs": [
    {
     "name": "stdin",
     "output_type": "stream",
     "text": [
      "Once deleted, variables cannot be recovered. Proceed (y/[n])?  y\n"
     ]
    },
    {
     "name": "stdout",
     "output_type": "stream",
     "text": [
      "Flushing output cache (0 entries)\n"
     ]
    }
   ],
   "source": [
    "%reset out"
   ]
  },
  {
   "cell_type": "markdown",
   "metadata": {},
   "source": [
    "##### Making a GIF:\n",
    "\n",
    "I have also writen a small code to make subplots with the different images of the same time interval and then create a GIF from it, but it is still messy so I didn't add it here."
   ]
  },
  {
   "cell_type": "code",
   "execution_count": 1,
   "metadata": {},
   "outputs": [],
   "source": [
    "from Animation_3D_main import testing"
   ]
  },
  {
   "cell_type": "code",
   "execution_count": 2,
   "metadata": {},
   "outputs": [
    {
     "name": "stdout",
     "output_type": "stream",
     "text": [
      "The day indexes are [array([ 0,  1,  2,  3,  4,  5,  6,  7,  8,  9, 10, 11, 12, 13, 14, 15, 16,\n",
      "       17, 18, 19, 20]), array([21, 22, 23, 24, 25, 26, 27, 28, 29, 30, 31, 32, 33, 34, 35, 36, 37,\n",
      "       38, 39, 40, 41, 42, 43, 44, 45, 46, 47, 48, 49, 50, 51]), array([52, 53, 54, 55, 56, 57, 58, 59, 60, 61, 62, 63, 64, 65, 66, 67, 68,\n",
      "       69, 70, 71, 72, 73, 74, 75, 76, 77])]\n",
      "day_nb is 0\n",
      "day_index is [ 0  1  2  3  4  5  6  7  8  9 10 11 12 13 14 15 16 17 18 19 20]\n",
      "day_nb is 1\n",
      "day_index is [21 22 23 24 25 26 27 28 29 30 31 32 33 34 35 36 37 38 39 40 41 42 43 44\n",
      " 45 46 47 48 49 50 51]\n",
      "the shape of self.day_cubes_all_data[day_nb] is (302, 236, 141)\n",
      "The break worked as intended\n"
     ]
    },
    {
     "data": {
      "text/plain": [
       "<Animation_3D_main.testing at 0x7f2803b935d0>"
      ]
     },
     "execution_count": 2,
     "metadata": {},
     "output_type": "execute_result"
    }
   ],
   "source": [
    "testing(day_trace=True)"
   ]
  },
  {
   "cell_type": "code",
   "execution_count": null,
   "metadata": {},
   "outputs": [],
   "source": []
  }
 ],
 "metadata": {
  "kernelspec": {
   "display_name": "Python 3 (ipykernel)",
   "language": "python",
   "name": "python3"
  },
  "language_info": {
   "codemirror_mode": {
    "name": "ipython",
    "version": 3
   },
   "file_extension": ".py",
   "mimetype": "text/x-python",
   "name": "python",
   "nbconvert_exporter": "python",
   "pygments_lexer": "ipython3",
   "version": "3.11.6"
  }
 },
 "nbformat": 4,
 "nbformat_minor": 4
}
