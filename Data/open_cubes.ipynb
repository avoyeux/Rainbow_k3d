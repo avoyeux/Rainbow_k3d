{
 "cells": [
  {
   "cell_type": "markdown",
   "metadata": {},
   "source": [
    "### To open and look inside the cubes"
   ]
  },
  {
   "cell_type": "code",
   "execution_count": null,
   "metadata": {},
   "outputs": [],
   "source": []
  },
  {
   "cell_type": "code",
   "execution_count": 4,
   "metadata": {},
   "outputs": [],
   "source": [
    "# Imports\n",
    "import os\n",
    "import h5py\n",
    "import common\n",
    "\n",
    "import numpy as np"
   ]
  },
  {
   "cell_type": "code",
   "execution_count": 3,
   "metadata": {},
   "outputs": [
    {
     "name": "stdout",
     "output_type": "stream",
     "text": [
      "(4, 108684141)\n"
     ]
    }
   ],
   "source": [
    "with h5py.File('sig1e20_leg20_lim0_03.h5') as data:\n",
    "\n",
    "    path = 'Time integrated/All data/Time integration of 24.0 hours/coords'\n",
    "    coords = data[path][...]\n",
    "    print(coords.shape)"
   ]
  },
  {
   "cell_type": "code",
   "execution_count": 6,
   "metadata": {},
   "outputs": [
    {
     "name": "stdout",
     "output_type": "stream",
     "text": [
      "The min max values for x are 2, 184\n",
      "The min max values for y are 1, 224\n",
      "The min max values for z are 1, 317\n"
     ]
    }
   ],
   "source": [
    "text = f\"The min max values for x are {np.min(coords[1])}, {np.max(coords[1])}\"\n",
    "text1 = f\"The min max values for y are {np.min(coords[2])}, {np.max(coords[2])}\"\n",
    "text2 = f\"The min max values for z are {np.min(coords[3])}, {np.max(coords[3])}\"\n",
    "\n",
    "print(text)\n",
    "print(text1)\n",
    "print(text2)\n"
   ]
  },
  {
   "cell_type": "code",
   "execution_count": null,
   "metadata": {},
   "outputs": [],
   "source": []
  }
 ],
 "metadata": {
  "kernelspec": {
   "display_name": ".venv_dev",
   "language": "python",
   "name": "python3"
  },
  "language_info": {
   "codemirror_mode": {
    "name": "ipython",
    "version": 3
   },
   "file_extension": ".py",
   "mimetype": "text/x-python",
   "name": "python",
   "nbconvert_exporter": "python",
   "pygments_lexer": "ipython3",
   "version": "3.11.6"
  }
 },
 "nbformat": 4,
 "nbformat_minor": 2
}
